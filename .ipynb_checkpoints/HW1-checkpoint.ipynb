{
 "cells": [
  {
   "cell_type": "code",
   "execution_count": 93,
   "id": "074739e8",
   "metadata": {},
   "outputs": [],
   "source": [
    "import numpy as np\n",
    "import matplotlib.pyplot as plt\n",
    "import scipy.optimize as opt\n",
    "import copy"
   ]
  },
  {
   "cell_type": "code",
   "execution_count": 111,
   "id": "273f2406",
   "metadata": {},
   "outputs": [
    {
     "name": "stdout",
     "output_type": "stream",
     "text": [
      "[ 2.17168187  0.9093249   0.73247849 31.4529185 ]\n"
     ]
    },
    {
     "data": {
      "image/png": "[encoded data removed]",
      "text/plain": [
       "<Figure size 640x480 with 1 Axes>"
      ]
     },
     "metadata": {},
     "output_type": "display_data"
    }
   ],
   "source": [
    "X=np.arange(0,31)\n",
    "Y=np.array([30, 35, 33, 32, 34, 37, 39, 38, 36, 36, 37, 39, 42, 45, 45, 41, 40, 39, 42, 44, 47, 49, 50, 49, 46, 48, 50, 53, 55, 54, 53])\n",
    "\n",
    "def velfit(c, x, y):\n",
    "    e2 = np.sqrt(np.sum((c[0]*np.cos(c[1]*x)+c[2]*x+c[3]-y)**2))\n",
    "    return e2\n",
    "\n",
    "v0 = np.array([3, 1*np.pi/4, 2/3, 32])   # 3 pi/4 2/3 32\n",
    "\n",
    "res= opt.minimize(velfit, v0, args=(X, Y), method='Nelder-Mead')\n",
    "\n",
    "c = res.x\n",
    "print(c)\n",
    "\n",
    "x2 = np.arange(0, 31.01, 0.01)\n",
    "yfit2 = (c[0]*np.cos(c[1]*x2)+c[2]*x2+c[3])\n",
    "\n",
    "plt.plot(np.arange(0, 31), Y, 'ko')\n",
    "plt.plot(x2, yfit2, 'r-')\n",
    "plt.show()"
   ]
  },
  {
   "cell_type": "code",
   "execution_count": null,
   "id": "c7231241",
   "metadata": {},
   "outputs": [],
   "source": [
    "# Sweep through the remaining parameters and compute the loss for each combination\n",
    "A_range = np.linspace(-2, 2, 100)\n",
    "B_range = np.linspace(30, 60, 100)\n",
    "C_range = np.linspace(30, 60, 100)\n",
    "D_range = np.linspace(30, 60, 100)\n",
    "rang = np.array([A_range, B_range, C_range, D_range])\n",
    "c_copy = copy.deepcopy(c)\n",
    "mask = np.array([[1,1,0,0], # ones means changing value, 0 is constant val\n",
    "                [1,0,1,0],\n",
    "                [1,0,0,1],\n",
    "                [0,1,1,0],\n",
    "                [0,1,0,1],\n",
    "                [0,0,1,1]] )\n",
    "# c_sweep = np.zeros([6,4,100,100])\n",
    "fig, axs = plt.subplots(6, figsize=(8, 10))\n",
    "for i in range(6):\n",
    "    for j in range(4):\n",
    "#         if mask[i][j]:\n",
    "#             c_sweep[i][j] = rang[j]\n",
    "#         else:\n",
    "        \n",
    "        m = np.array(np.where(mask[i] == 1))[0][0]\n",
    "        n = np.array(np.where(mask[i] == 1))[0][1]\n",
    "        print(mask[i], m, n, i)\n",
    "        for k, a in enumerate(rang[m]):\n",
    "            for l, b in enumerate(rang[n]):\n",
    "                c_sweep = c_copy\n",
    "                loss = np.zeros([100,100])\n",
    "                c_sweep[m] = a\n",
    "                c_sweep[n] = b\n",
    "                loss[k, l] = velfit(c_sweep, X, Y)\n",
    "                X, Y = np.meshgrid(rang[m], rang[n])\n",
    "                axs[i].pcolor(X, Y, loss, cmap='jet')\n",
    "                \n",
    "plt.show()\n",
    "                \n",
    "                \n",
    "\n",
    "\n",
    "# fig, ax = plt.subplots()\n",
    "# X, Y = np.meshgrid(A_range, B_range)\n",
    "# pc = ax.pcolor(X, Y, loss, cmap='jet')\n",
    "# ax.set_xlabel('c[2]')\n",
    "# ax.set_ylabel('c[3]')\n",
    "# plt.colorbar(pc)\n",
    "\n",
    "# plt.show()\n",
    "\n",
    "\n",
    "\n",
    "\n",
    "\n"
   ]
  },
  {
   "cell_type": "code",
   "execution_count": null,
   "id": "e04c8295",
   "metadata": {},
   "outputs": [],
   "source": [
    "tl = []\n",
    "loss = np.zeros((len(A_range), len(B_range)))\n",
    "for i, a in enumerate(C_range):\n",
    "    for j, b in enumerate(D_range):\n",
    "        c_sweep = np.array([c[0], c[1], a, b])\n",
    "        loss[i, j] = velfit(c_sweep, X, Y)\n",
    "tl.append(loss)\n",
    "\n",
    "# Visualize the loss landscape using pcolor\n",
    "fig, ax = plt.subplots()\n",
    "X, Y = np.meshgrid(A_range, B_range)\n",
    "pc = ax.pcolor(X, Y, loss, cmap='jet')\n",
    "ax.set_xlabel('c[2]')\n",
    "ax.set_ylabel('c[3]')\n",
    "plt.colorbar(pc)\n",
    "\n",
    "plt.show()"
   ]
  },
  {
   "cell_type": "code",
   "execution_count": 96,
   "id": "8b86711c",
   "metadata": {},
   "outputs": [
    {
     "name": "stdout",
     "output_type": "stream",
     "text": [
      "(4, 50)\n"
     ]
    },
    {
     "name": "stderr",
     "output_type": "stream",
     "text": [
      "/var/folders/j_/2d33q2mn2qx5cb4dlff5xy6h0000gn/T/ipykernel_24021/1346734931.py:10: VisibleDeprecationWarning: Creating an ndarray from ragged nested sequences (which is a list-or-tuple of lists-or-tuples-or ndarrays with different lengths or shapes) is deprecated. If you meant to do this, you must specify 'dtype=object' when creating the ndarray.\n",
      "  param = np.array(param)\n"
     ]
    },
    {
     "ename": "AxisError",
     "evalue": "axis2: axis 2 is out of bounds for array of dimension 2",
     "output_type": "error",
     "traceback": [
      "\u001b[0;31m---------------------------------------------------------------------------\u001b[0m",
      "\u001b[0;31mAxisError\u001b[0m                                 Traceback (most recent call last)",
      "Input \u001b[0;32mIn [96]\u001b[0m, in \u001b[0;36m<cell line: 11>\u001b[0;34m()\u001b[0m\n\u001b[1;32m      9\u001b[0m param\u001b[38;5;241m.\u001b[39mappend([np\u001b[38;5;241m.\u001b[39mrepeat(c[\u001b[38;5;241m0\u001b[39m], \u001b[38;5;241m50\u001b[39m), np\u001b[38;5;241m.\u001b[39mrepeat(c[\u001b[38;5;241m1\u001b[39m], \u001b[38;5;241m50\u001b[39m), C_range, D_range])\n\u001b[1;32m     10\u001b[0m param \u001b[38;5;241m=\u001b[39m np\u001b[38;5;241m.\u001b[39marray(param)\n\u001b[0;32m---> 11\u001b[0m param \u001b[38;5;241m=\u001b[39m \u001b[43mnp\u001b[49m\u001b[38;5;241;43m.\u001b[39;49m\u001b[43mswapaxes\u001b[49m\u001b[43m(\u001b[49m\u001b[43mparam\u001b[49m\u001b[43m,\u001b[49m\u001b[43m \u001b[49m\u001b[38;5;241;43m1\u001b[39;49m\u001b[43m,\u001b[49m\u001b[43m \u001b[49m\u001b[38;5;241;43m2\u001b[39;49m\u001b[43m)\u001b[49m\n\u001b[1;32m     12\u001b[0m \u001b[38;5;28mprint\u001b[39m(param\u001b[38;5;241m.\u001b[39mshape)\n\u001b[1;32m     15\u001b[0m loss \u001b[38;5;241m=\u001b[39m np\u001b[38;5;241m.\u001b[39mzeros((\u001b[38;5;28mlen\u001b[39m(param), \u001b[38;5;241m50\u001b[39m, \u001b[38;5;241m50\u001b[39m))\n",
      "File \u001b[0;32m<__array_function__ internals>:5\u001b[0m, in \u001b[0;36mswapaxes\u001b[0;34m(*args, **kwargs)\u001b[0m\n",
      "File \u001b[0;32m~/opt/anaconda3/lib/python3.9/site-packages/numpy/core/fromnumeric.py:594\u001b[0m, in \u001b[0;36mswapaxes\u001b[0;34m(a, axis1, axis2)\u001b[0m\n\u001b[1;32m    550\u001b[0m \u001b[38;5;129m@array_function_dispatch\u001b[39m(_swapaxes_dispatcher)\n\u001b[1;32m    551\u001b[0m \u001b[38;5;28;01mdef\u001b[39;00m \u001b[38;5;21mswapaxes\u001b[39m(a, axis1, axis2):\n\u001b[1;32m    552\u001b[0m     \u001b[38;5;124;03m\"\"\"\u001b[39;00m\n\u001b[1;32m    553\u001b[0m \u001b[38;5;124;03m    Interchange two axes of an array.\u001b[39;00m\n\u001b[1;32m    554\u001b[0m \n\u001b[0;32m   (...)\u001b[0m\n\u001b[1;32m    592\u001b[0m \n\u001b[1;32m    593\u001b[0m \u001b[38;5;124;03m    \"\"\"\u001b[39;00m\n\u001b[0;32m--> 594\u001b[0m     \u001b[38;5;28;01mreturn\u001b[39;00m \u001b[43m_wrapfunc\u001b[49m\u001b[43m(\u001b[49m\u001b[43ma\u001b[49m\u001b[43m,\u001b[49m\u001b[43m \u001b[49m\u001b[38;5;124;43m'\u001b[39;49m\u001b[38;5;124;43mswapaxes\u001b[39;49m\u001b[38;5;124;43m'\u001b[39;49m\u001b[43m,\u001b[49m\u001b[43m \u001b[49m\u001b[43maxis1\u001b[49m\u001b[43m,\u001b[49m\u001b[43m \u001b[49m\u001b[43maxis2\u001b[49m\u001b[43m)\u001b[49m\n",
      "File \u001b[0;32m~/opt/anaconda3/lib/python3.9/site-packages/numpy/core/fromnumeric.py:57\u001b[0m, in \u001b[0;36m_wrapfunc\u001b[0;34m(obj, method, *args, **kwds)\u001b[0m\n\u001b[1;32m     54\u001b[0m     \u001b[38;5;28;01mreturn\u001b[39;00m _wrapit(obj, method, \u001b[38;5;241m*\u001b[39margs, \u001b[38;5;241m*\u001b[39m\u001b[38;5;241m*\u001b[39mkwds)\n\u001b[1;32m     56\u001b[0m \u001b[38;5;28;01mtry\u001b[39;00m:\n\u001b[0;32m---> 57\u001b[0m     \u001b[38;5;28;01mreturn\u001b[39;00m \u001b[43mbound\u001b[49m\u001b[43m(\u001b[49m\u001b[38;5;241;43m*\u001b[39;49m\u001b[43margs\u001b[49m\u001b[43m,\u001b[49m\u001b[43m \u001b[49m\u001b[38;5;241;43m*\u001b[39;49m\u001b[38;5;241;43m*\u001b[39;49m\u001b[43mkwds\u001b[49m\u001b[43m)\u001b[49m\n\u001b[1;32m     58\u001b[0m \u001b[38;5;28;01mexcept\u001b[39;00m \u001b[38;5;167;01mTypeError\u001b[39;00m:\n\u001b[1;32m     59\u001b[0m     \u001b[38;5;66;03m# A TypeError occurs if the object does have such a method in its\u001b[39;00m\n\u001b[1;32m     60\u001b[0m     \u001b[38;5;66;03m# class, but its signature is not identical to that of NumPy's. This\u001b[39;00m\n\u001b[0;32m   (...)\u001b[0m\n\u001b[1;32m     64\u001b[0m     \u001b[38;5;66;03m# Call _wrapit from within the except clause to ensure a potential\u001b[39;00m\n\u001b[1;32m     65\u001b[0m     \u001b[38;5;66;03m# exception has a traceback chain.\u001b[39;00m\n\u001b[1;32m     66\u001b[0m     \u001b[38;5;28;01mreturn\u001b[39;00m _wrapit(obj, method, \u001b[38;5;241m*\u001b[39margs, \u001b[38;5;241m*\u001b[39m\u001b[38;5;241m*\u001b[39mkwds)\n",
      "\u001b[0;31mAxisError\u001b[0m: axis2: axis 2 is out of bounds for array of dimension 2"
     ]
    }
   ],
   "source": [
    "print(rg.shape)\n",
    "\n",
    "param = []\n",
    "param.append([A_range, B_range, np.repeat(c[2], 50), np.repeat(c[3], 50)])\n",
    "param.append([A_range, np.repeat(c[1], 50), C_range, np.repeat(c[3], 50)])\n",
    "param.append([A_range, np.repeat(c[1], 50), np.repeat(c[2], 50), D_range])\n",
    "param.append([np.repeat(c[0], 50), B_range, C_range, np.repeat(c[3], 50)])\n",
    "param.append([np.repeat(c[0], 50), B_range, np.repeat(c[2], 50), D_range])\n",
    "param.append([np.repeat(c[0], 50), np.repeat(c[1], 50), C_range, D_range])\n",
    "param = np.array(param)\n",
    "param = np.swapaxes(param, 1, 2)\n",
    "print(param.shape)\n",
    "\n",
    "\n",
    "loss = np.zeros((len(param), 50, 50))\n",
    "for i in range(len(param)):\n",
    "    for j in range(50):\n",
    "        k = j\n",
    "        loss[i][j][k] = (velfit(param[i][j], x, y))\n",
    "print(param[0][0])\n",
    "print(loss.shape)\n",
    "\n",
    "print(loss)\n",
    "fig, axs = plt.subplots(nrows=2, ncols=3, figsize=(8, 10))\n",
    "axs[0,0].pcolormesh((rg[2], rg[3], loss[0]), cmap='jet')\n",
    "axs[0,1].pcolormesh((rg[1], rg[3], loss[1]), cmap='jet')\n",
    "axs[0,2].pcolormesh((rg[1], rg[2], loss[2]), cmap='jet')\n",
    "axs[1,0].pcolormesh((rg[0], rg[3], loss[3]), cmap='jet')\n",
    "axs[1,1].pcolormesh((rg[0], rg[2], loss[4]), cmap='jet')\n",
    "axs[1,2].pcolormesh((rg[0], rg[1], loss[5]), cmap='jet')\n",
    "plt.show()\n"
   ]
  },
  {
   "cell_type": "code",
   "execution_count": 97,
   "id": "a656c975",
   "metadata": {},
   "outputs": [],
   "source": [
    "plt.pcolor?"
   ]
  },
  {
   "cell_type": "code",
   "execution_count": null,
   "id": "28ef4061",
   "metadata": {},
   "outputs": [],
   "source": []
  },
  {
   "cell_type": "code",
   "execution_count": 98,
   "id": "3cc378c7",
   "metadata": {},
   "outputs": [
    {
     "name": "stdout",
     "output_type": "stream",
     "text": [
      "(0, 1)\n",
      "(0, 2)\n",
      "(0, 3)\n",
      "(1, 2)\n",
      "(1, 3)\n",
      "(2, 3)\n"
     ]
    }
   ],
   "source": [
    "import itertools\n",
    "\n",
    "combinations = itertools.combinations(range(0, 4), 2)\n",
    "\n",
    "for comb in combinations:\n",
    "    print(comb)"
   ]
  },
  {
   "cell_type": "code",
   "execution_count": 99,
   "id": "9601343f",
   "metadata": {},
   "outputs": [
    {
     "data": {
      "image/png": "[encoded data removed]",
      "text/plain": [
       "<Figure size 640x480 with 2 Axes>"
      ]
     },
     "metadata": {},
     "output_type": "display_data"
    }
   ],
   "source": [
    "import numpy as np\n",
    "import matplotlib.pyplot as plt\n",
    "from mpl_toolkits.mplot3d import Axes3D\n",
    "\n",
    "# Define the function to optimize\n",
    "def velfit(c, x, y):\n",
    "    e2 = np.sqrt(np.sum((c[0]*np.cos(c[1]*x)+c[2]*x+c[3]-y)**2))\n",
    "    return e2\n",
    "\n",
    "# Define the data\n",
    "X = np.arange(0, 31)\n",
    "Y = np.array([30, 35, 33, 32, 34, 37, 39, 38, 36, 36, 37, 39, 42, 45, 45, 41, 40, 39, 42, 44, 47, 49, 50, 49, 46, 48, 50, 53, 55, 54, 53])\n",
    "\n",
    "# Perform the optimization to find the optimal parameters\n",
    "v0 = np.array([3, 1*np.pi/4, 2/3, 32])   # 3 pi/4 2/3 32\n",
    "res = opt.minimize(velfit, v0, args=(X, Y), method='Nelder-Mead')\n",
    "c = res.x\n",
    "\n",
    "# Sweep through the remaining parameters and compute the loss for each combination\n",
    "A_range = np.linspace(-2, 2, 100)\n",
    "B_range = np.linspace(30, 60, 100)\n",
    "loss = np.zeros((len(A_range), len(B_range)))\n",
    "for i, a in enumerate(A_range):\n",
    "    for j, b in enumerate(B_range):\n",
    "        c_sweep = np.array([c[0], c[1], a, b])\n",
    "        loss[i, j] = velfit(c_sweep, X, Y)\n",
    "\n",
    "# Visualize the loss landscape using pcolor\n",
    "fig, ax = plt.subplots()\n",
    "X, Y = np.meshgrid(A_range, B_range)\n",
    "pc = ax.pcolor(X, Y, loss, cmap='jet')\n",
    "ax.set_xlabel('c[2]')\n",
    "ax.set_ylabel('c[3]')\n",
    "plt.colorbar(pc)\n",
    "\n",
    "plt.show()\n"
   ]
  },
  {
   "cell_type": "code",
   "execution_count": 132,
   "id": "18c7e72b",
   "metadata": {},
   "outputs": [
    {
     "name": "stdout",
     "output_type": "stream",
     "text": [
      "[False  True False  True False  True False  True False  True]\n",
      "[ 2  4  6  8 10]\n"
     ]
    }
   ],
   "source": [
    "import numpy as np\n",
    "\n",
    "arr = np.array([1, 2, 3, 4, 5, 6, 7, 8, 9, 10])\n",
    "\n",
    "# create a boolean mask based on a condition\n",
    "mask = arr % 2 == 0\n",
    "print(mask)\n",
    "\n",
    "# apply the boolean mask to the array\n",
    "filtered_arr = arr[mask]\n",
    "\n",
    "print(filtered_arr)  # output: [ 2  4  6  8 10]"
   ]
  },
  {
   "cell_type": "code",
   "execution_count": null,
   "id": "baee4561",
   "metadata": {},
   "outputs": [],
   "source": []
  }
 ],
 "metadata": {
  "kernelspec": {
   "display_name": "Python 3 (ipykernel)",
   "language": "python",
   "name": "python3"
  },
  "language_info": {
   "codemirror_mode": {
    "name": "ipython",
    "version": 3
   },
   "file_extension": ".py",
   "mimetype": "text/x-python",
   "name": "python",
   "nbconvert_exporter": "python",
   "pygments_lexer": "ipython3",
   "version": "3.9.13"
  }
 },
 "nbformat": 4,
 "nbformat_minor": 5
}
