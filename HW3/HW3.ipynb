{
 "cells": [
  {
   "cell_type": "code",
   "execution_count": 8,
   "id": "8399ed81",
   "metadata": {},
   "outputs": [],
   "source": [
    "import numpy as np\n",
    "import matplotlib.pyplot as plt\n",
    "from sklearn.datasets import fetch_openml\n",
    "from sklearn.decomposition import TruncatedSVD\n",
    "from mpl_toolkits.mplot3d import Axes3D\n",
    "from sklearn.discriminant_analysis import LinearDiscriminantAnalysis\n",
    "from sklearn.svm import SVC\n",
    "from sklearn.tree import DecisionTreeClassifier\n",
    "from sklearn.model_selection import train_test_split"
   ]
  },
  {
   "cell_type": "code",
   "execution_count": null,
   "id": "54040f1b",
   "metadata": {},
   "outputs": [],
   "source": []
  },
  {
   "cell_type": "code",
   "execution_count": 9,
   "id": "90ad8ca2",
   "metadata": {},
   "outputs": [
    {
     "ename": "AttributeError",
     "evalue": "'DataFrame' object has no attribute 'reshape'",
     "output_type": "error",
     "traceback": [
      "\u001b[0;31m---------------------------------------------------------------------------\u001b[0m",
      "\u001b[0;31mAttributeError\u001b[0m                            Traceback (most recent call last)",
      "Input \u001b[0;32mIn [9]\u001b[0m, in \u001b[0;36m<cell line: 6>\u001b[0;34m()\u001b[0m\n\u001b[1;32m      3\u001b[0m X \u001b[38;5;241m=\u001b[39m mnist\u001b[38;5;241m.\u001b[39mdata \u001b[38;5;241m/\u001b[39m \u001b[38;5;241m255.0\u001b[39m  \u001b[38;5;66;03m# Scale the data to [0, 1]\u001b[39;00m\n\u001b[1;32m      5\u001b[0m \u001b[38;5;66;03m# Reshape each image into a column vector and store them in a data matrix\u001b[39;00m\n\u001b[0;32m----> 6\u001b[0m X_reshaped \u001b[38;5;241m=\u001b[39m \u001b[43mX\u001b[49m\u001b[38;5;241;43m.\u001b[39;49m\u001b[43mreshape\u001b[49m((X\u001b[38;5;241m.\u001b[39mshape[\u001b[38;5;241m0\u001b[39m], \u001b[38;5;241m-\u001b[39m\u001b[38;5;241m1\u001b[39m))\u001b[38;5;241m.\u001b[39mT\n",
      "File \u001b[0;32m~/opt/anaconda3/lib/python3.9/site-packages/pandas/core/generic.py:5575\u001b[0m, in \u001b[0;36mNDFrame.__getattr__\u001b[0;34m(self, name)\u001b[0m\n\u001b[1;32m   5568\u001b[0m \u001b[38;5;28;01mif\u001b[39;00m (\n\u001b[1;32m   5569\u001b[0m     name \u001b[38;5;129;01mnot\u001b[39;00m \u001b[38;5;129;01min\u001b[39;00m \u001b[38;5;28mself\u001b[39m\u001b[38;5;241m.\u001b[39m_internal_names_set\n\u001b[1;32m   5570\u001b[0m     \u001b[38;5;129;01mand\u001b[39;00m name \u001b[38;5;129;01mnot\u001b[39;00m \u001b[38;5;129;01min\u001b[39;00m \u001b[38;5;28mself\u001b[39m\u001b[38;5;241m.\u001b[39m_metadata\n\u001b[1;32m   5571\u001b[0m     \u001b[38;5;129;01mand\u001b[39;00m name \u001b[38;5;129;01mnot\u001b[39;00m \u001b[38;5;129;01min\u001b[39;00m \u001b[38;5;28mself\u001b[39m\u001b[38;5;241m.\u001b[39m_accessors\n\u001b[1;32m   5572\u001b[0m     \u001b[38;5;129;01mand\u001b[39;00m \u001b[38;5;28mself\u001b[39m\u001b[38;5;241m.\u001b[39m_info_axis\u001b[38;5;241m.\u001b[39m_can_hold_identifiers_and_holds_name(name)\n\u001b[1;32m   5573\u001b[0m ):\n\u001b[1;32m   5574\u001b[0m     \u001b[38;5;28;01mreturn\u001b[39;00m \u001b[38;5;28mself\u001b[39m[name]\n\u001b[0;32m-> 5575\u001b[0m \u001b[38;5;28;01mreturn\u001b[39;00m \u001b[38;5;28;43mobject\u001b[39;49m\u001b[38;5;241;43m.\u001b[39;49m\u001b[38;5;21;43m__getattribute__\u001b[39;49m\u001b[43m(\u001b[49m\u001b[38;5;28;43mself\u001b[39;49m\u001b[43m,\u001b[49m\u001b[43m \u001b[49m\u001b[43mname\u001b[49m\u001b[43m)\u001b[49m\n",
      "\u001b[0;31mAttributeError\u001b[0m: 'DataFrame' object has no attribute 'reshape'"
     ]
    }
   ],
   "source": [
    "# Load the MNIST dataset\n",
    "mnist = fetch_openml('mnist_784')\n",
    "X = mnist.data / 255.0  # Scale the data to [0, 1]"
   ]
  },
  {
   "cell_type": "code",
   "execution_count": null,
   "id": "09968bb8",
   "metadata": {},
   "outputs": [],
   "source": [
    "# Reshape each image into a column vector and store them in a data matrix\n",
    "X_reshaped = X.reshape((X.shape[0], -1)).T"
   ]
  },
  {
   "cell_type": "code",
   "execution_count": null,
   "id": "9074a1c4",
   "metadata": {},
   "outputs": [],
   "source": [
    "# Perform SVD analysis on the data matrix\n",
    "U, s, Vt = np.linalg.svd(X_reshaped, full_matrices=False)\n",
    "\n",
    "total_energy = np.sum(s**2)\n",
    "cumulative_energy = np.cumsum(s**2)\n",
    "threshold = 0.95 * total_energy  # You can adjust the threshold as needed\n",
    "\n",
    "# Find the optimal rank\n",
    "optimal_rank = np.argmax(cumulative_energy > threshold) + 1\n",
    "\n",
    "print(f\"Optimal rank (r) for image reconstruction: {optimal_rank}\")"
   ]
  },
  {
   "cell_type": "code",
   "execution_count": null,
   "id": "9d9c16ac",
   "metadata": {},
   "outputs": [],
   "source": [
    "total_energy = np.sum(s**2)\n",
    "cumulative_energy = np.cumsum(s**2)\n",
    "threshold = 0.95 * total_energy  # You can adjust the threshold as needed\n",
    "\n",
    "# Find the optimal rank\n",
    "optimal_rank = np.argmax(cumulative_energy > threshold) + 1\n",
    "\n",
    "print(f\"Optimal rank (r) for image reconstruction: {optimal_rank}\")"
   ]
  },
  {
   "cell_type": "code",
   "execution_count": null,
   "id": "a88b3990",
   "metadata": {},
   "outputs": [],
   "source": [
    "# Select columns 2, 3, and 5 from the Vt matrix\n",
    "selected_modes = Vt[:,[1, 2, 4]]\n",
    "\n",
    "# Project the data onto the selected modes\n",
    "projected_data = np.dot(X_reshaped.T, selected_modes)\n",
    "\n",
    "# Get the digit labels from the MNIST dataset\n",
    "labels = mnist.target.astype(int)\n",
    "\n",
    "# Select two digits to classify\n",
    "digit_1, digit_2 = 4, 9\n",
    "\n",
    "# Filter the data to only include the selected digits\n",
    "mask = np.logical_or(labels == digit_1, labels == digit_2)\n",
    "X_filtered = X[mask]\n",
    "labels_filtered = labels[mask]\n"
   ]
  },
  {
   "cell_type": "code",
   "execution_count": null,
   "id": "158a53ce",
   "metadata": {},
   "outputs": [],
   "source": [
    "\n",
    "# Split the filtered data into training and testing sets\n",
    "X_train, X_test, y_train, y_test = train_test_split(X_filtered, labels_filtered, test_size=0.3, random_state=42)\n",
    "\n",
    "# Train a linear discriminant analysis (LDA) classifier\n",
    "lda = LinearDiscriminantAnalysis()\n",
    "lda.fit(X_train, y_train)\n",
    "\n",
    "# Select three digits to classify\n",
    "digit_1, digit_2, digit_3 = 9, 4, 7"
   ]
  },
  {
   "cell_type": "code",
   "execution_count": null,
   "id": "cffe6f85",
   "metadata": {},
   "outputs": [],
   "source": [
    "\n",
    "# Filter the data to only include the selected digits\n",
    "mask = np.logical_or.reduce((labels == digit_1, labels == digit_2, labels == digit_3))\n",
    "X_filtered = X[mask]\n",
    "labels_filtered = labels[mask]\n",
    "\n",
    "# Split the filtered data into training and testing sets\n",
    "X_train, X_test, y_train, y_test = train_test_split(X_filtered, labels_filtered, test_size=0.3, random_state=42)\n"
   ]
  },
  {
   "cell_type": "code",
   "execution_count": null,
   "id": "48f4db19",
   "metadata": {},
   "outputs": [],
   "source": [
    "# Train an LDA classifier\n",
    "lda = LinearDiscriminantAnalysis()\n",
    "lda.fit(X_train, y_train)\n",
    "\n",
    "# Split the original data into training and testing sets\n",
    "X_train, X_test, y_train, y_test = train_test_split(X, labels, test_size=0.3, random_state=42)\n",
    "\n",
    "# Train a support vector machine (SVM) classifier\n",
    "svm = SVC(kernel='rbf', C=5, gamma='scale', random_state=42)\n",
    "svm.fit(X_train, y_train)\n",
    "\n",
    "# Make predictions on the testing set for selected digits\n",
    "mask = np.logical_or(labels == digit_1, labels == digit_2)\n",
    "X_test = X[mask]\n",
    "y_test = labels[mask]\n",
    "y_pred = svm.predict(X_test)"
   ]
  },
  {
   "cell_type": "code",
   "execution_count": null,
   "id": "6479f4a5",
   "metadata": {},
   "outputs": [],
   "source": [
    "# Make predictions on the testing set\n",
    "y_pred = dt.predict(X_test)\n",
    "\n",
    "# Select two digits to classify\n",
    "digit_1, digit_2 = 4, 9\n",
    "\n",
    "# Filter the data to only include the selected digits\n",
    "mask = np.logical_or(labels == digit_1, labels == digit_2)\n",
    "X_filtered = X[mask]\n",
    "labels_filtered = labels[mask]\n",
    "\n",
    "# Split the data into training and testing sets\n",
    "X_train, X_test, y_train, y_test = train_test_split(X_filtered, labels_filtered, test_size=0.3, random_state=42)\n",
    "\n",
    "# Train a Decision Tree classifier\n",
    "dt = DecisionTreeClassifier(random_state=42)\n",
    "dt.fit(X_train, y_train)"
   ]
  },
  {
   "cell_type": "code",
   "execution_count": null,
   "id": "db37defe",
   "metadata": {},
   "outputs": [],
   "source": []
  },
  {
   "cell_type": "code",
   "execution_count": null,
   "id": "3c30a07e",
   "metadata": {},
   "outputs": [],
   "source": []
  },
  {
   "cell_type": "code",
   "execution_count": null,
   "id": "27626568",
   "metadata": {},
   "outputs": [],
   "source": []
  },
  {
   "cell_type": "code",
   "execution_count": null,
   "id": "d9f03eb4",
   "metadata": {},
   "outputs": [],
   "source": []
  },
  {
   "cell_type": "code",
   "execution_count": null,
   "id": "74a5bf7a",
   "metadata": {},
   "outputs": [],
   "source": []
  },
  {
   "cell_type": "code",
   "execution_count": null,
   "id": "ad00c025",
   "metadata": {},
   "outputs": [],
   "source": []
  }
 ],
 "metadata": {
  "kernelspec": {
   "display_name": "Python 3 (ipykernel)",
   "language": "python",
   "name": "python3"
  },
  "language_info": {
   "codemirror_mode": {
    "name": "ipython",
    "version": 3
   },
   "file_extension": ".py",
   "mimetype": "text/x-python",
   "name": "python",
   "nbconvert_exporter": "python",
   "pygments_lexer": "ipython3",
   "version": "3.9.13"
  }
 },
 "nbformat": 4,
 "nbformat_minor": 5
}
