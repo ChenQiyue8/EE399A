{
 "cells": [
  {
   "cell_type": "code",
   "execution_count": 10,
   "id": "20df50ba",
   "metadata": {},
   "outputs": [
    {
     "name": "stdout",
     "output_type": "stream",
     "text": [
      "zsh:1: command not found: py\r\n"
     ]
    }
   ],
   "source": [
    "!pip install tensorflow.compat.v2"
   ]
  },
  {
   "cell_type": "code",
   "execution_count": 11,
   "id": "eb4d194d",
   "metadata": {},
   "outputs": [
    {
     "ename": "ModuleNotFoundError",
     "evalue": "No module named 'tensorflow'",
     "output_type": "error",
     "traceback": [
      "\u001b[0;31m---------------------------------------------------------------------------\u001b[0m",
      "\u001b[0;31mModuleNotFoundError\u001b[0m                       Traceback (most recent call last)",
      "Input \u001b[0;32mIn [11]\u001b[0m, in \u001b[0;36m<cell line: 3>\u001b[0;34m()\u001b[0m\n\u001b[1;32m      1\u001b[0m \u001b[38;5;66;03m# Import statement\u001b[39;00m\n\u001b[0;32m----> 3\u001b[0m \u001b[38;5;28;01mfrom\u001b[39;00m \u001b[38;5;21;01mkeras\u001b[39;00m\u001b[38;5;21;01m.\u001b[39;00m\u001b[38;5;21;01mdatasets\u001b[39;00m \u001b[38;5;28;01mimport\u001b[39;00m mnist\n\u001b[1;32m      4\u001b[0m \u001b[38;5;28;01mfrom\u001b[39;00m \u001b[38;5;21;01msklearn\u001b[39;00m\u001b[38;5;21;01m.\u001b[39;00m\u001b[38;5;21;01mdiscriminant_analysis\u001b[39;00m \u001b[38;5;28;01mimport\u001b[39;00m LinearDiscriminantAnalysis \n\u001b[1;32m      5\u001b[0m \u001b[38;5;28;01mfrom\u001b[39;00m \u001b[38;5;21;01msklearn\u001b[39;00m\u001b[38;5;21;01m.\u001b[39;00m\u001b[38;5;21;01mmetrics\u001b[39;00m \u001b[38;5;28;01mimport\u001b[39;00m accuracy_score\n",
      "File \u001b[0;32m~/opt/anaconda3/lib/python3.9/site-packages/keras/__init__.py:21\u001b[0m, in \u001b[0;36m<module>\u001b[0;34m\u001b[0m\n\u001b[1;32m     15\u001b[0m \u001b[38;5;124;03m\"\"\"Implementation of the Keras API, the high-level API of TensorFlow.\u001b[39;00m\n\u001b[1;32m     16\u001b[0m \n\u001b[1;32m     17\u001b[0m \u001b[38;5;124;03mDetailed documentation and user guides are available at\u001b[39;00m\n\u001b[1;32m     18\u001b[0m \u001b[38;5;124;03m[keras.io](https://keras.io).\u001b[39;00m\n\u001b[1;32m     19\u001b[0m \u001b[38;5;124;03m\"\"\"\u001b[39;00m\n\u001b[1;32m     20\u001b[0m \u001b[38;5;28;01mfrom\u001b[39;00m \u001b[38;5;21;01mkeras\u001b[39;00m \u001b[38;5;28;01mimport\u001b[39;00m distribute\n\u001b[0;32m---> 21\u001b[0m \u001b[38;5;28;01mfrom\u001b[39;00m \u001b[38;5;21;01mkeras\u001b[39;00m \u001b[38;5;28;01mimport\u001b[39;00m models\n\u001b[1;32m     22\u001b[0m \u001b[38;5;28;01mfrom\u001b[39;00m \u001b[38;5;21;01mkeras\u001b[39;00m\u001b[38;5;21;01m.\u001b[39;00m\u001b[38;5;21;01mengine\u001b[39;00m\u001b[38;5;21;01m.\u001b[39;00m\u001b[38;5;21;01minput_layer\u001b[39;00m \u001b[38;5;28;01mimport\u001b[39;00m Input\n\u001b[1;32m     23\u001b[0m \u001b[38;5;28;01mfrom\u001b[39;00m \u001b[38;5;21;01mkeras\u001b[39;00m\u001b[38;5;21;01m.\u001b[39;00m\u001b[38;5;21;01mengine\u001b[39;00m\u001b[38;5;21;01m.\u001b[39;00m\u001b[38;5;21;01msequential\u001b[39;00m \u001b[38;5;28;01mimport\u001b[39;00m Sequential\n",
      "File \u001b[0;32m~/opt/anaconda3/lib/python3.9/site-packages/keras/models/__init__.py:18\u001b[0m, in \u001b[0;36m<module>\u001b[0;34m\u001b[0m\n\u001b[1;32m      1\u001b[0m \u001b[38;5;66;03m# Copyright 2022 The TensorFlow Authors. All Rights Reserved.\u001b[39;00m\n\u001b[1;32m      2\u001b[0m \u001b[38;5;66;03m#\u001b[39;00m\n\u001b[1;32m      3\u001b[0m \u001b[38;5;66;03m# Licensed under the Apache License, Version 2.0 (the \"License\");\u001b[39;00m\n\u001b[0;32m   (...)\u001b[0m\n\u001b[1;32m     13\u001b[0m \u001b[38;5;66;03m# limitations under the License.\u001b[39;00m\n\u001b[1;32m     14\u001b[0m \u001b[38;5;66;03m# ==============================================================================\u001b[39;00m\n\u001b[1;32m     15\u001b[0m \u001b[38;5;124;03m\"\"\"Keras models API.\"\"\"\u001b[39;00m\n\u001b[0;32m---> 18\u001b[0m \u001b[38;5;28;01mfrom\u001b[39;00m \u001b[38;5;21;01mkeras\u001b[39;00m\u001b[38;5;21;01m.\u001b[39;00m\u001b[38;5;21;01mengine\u001b[39;00m\u001b[38;5;21;01m.\u001b[39;00m\u001b[38;5;21;01mfunctional\u001b[39;00m \u001b[38;5;28;01mimport\u001b[39;00m Functional\n\u001b[1;32m     19\u001b[0m \u001b[38;5;28;01mfrom\u001b[39;00m \u001b[38;5;21;01mkeras\u001b[39;00m\u001b[38;5;21;01m.\u001b[39;00m\u001b[38;5;21;01mengine\u001b[39;00m\u001b[38;5;21;01m.\u001b[39;00m\u001b[38;5;21;01msequential\u001b[39;00m \u001b[38;5;28;01mimport\u001b[39;00m Sequential\n\u001b[1;32m     20\u001b[0m \u001b[38;5;28;01mfrom\u001b[39;00m \u001b[38;5;21;01mkeras\u001b[39;00m\u001b[38;5;21;01m.\u001b[39;00m\u001b[38;5;21;01mengine\u001b[39;00m\u001b[38;5;21;01m.\u001b[39;00m\u001b[38;5;21;01mtraining\u001b[39;00m \u001b[38;5;28;01mimport\u001b[39;00m Model\n",
      "File \u001b[0;32m~/opt/anaconda3/lib/python3.9/site-packages/keras/engine/functional.py:24\u001b[0m, in \u001b[0;36m<module>\u001b[0;34m\u001b[0m\n\u001b[1;32m     21\u001b[0m \u001b[38;5;28;01mimport\u001b[39;00m \u001b[38;5;21;01mitertools\u001b[39;00m\n\u001b[1;32m     22\u001b[0m \u001b[38;5;28;01mimport\u001b[39;00m \u001b[38;5;21;01mwarnings\u001b[39;00m\n\u001b[0;32m---> 24\u001b[0m \u001b[38;5;28;01mimport\u001b[39;00m \u001b[38;5;21;01mtensorflow\u001b[39;00m\u001b[38;5;21;01m.\u001b[39;00m\u001b[38;5;21;01mcompat\u001b[39;00m\u001b[38;5;21;01m.\u001b[39;00m\u001b[38;5;21;01mv2\u001b[39;00m \u001b[38;5;28;01mas\u001b[39;00m \u001b[38;5;21;01mtf\u001b[39;00m\n\u001b[1;32m     26\u001b[0m \u001b[38;5;28;01mfrom\u001b[39;00m \u001b[38;5;21;01mkeras\u001b[39;00m \u001b[38;5;28;01mimport\u001b[39;00m backend\n\u001b[1;32m     27\u001b[0m \u001b[38;5;28;01mfrom\u001b[39;00m \u001b[38;5;21;01mkeras\u001b[39;00m\u001b[38;5;21;01m.\u001b[39;00m\u001b[38;5;21;01mdtensor\u001b[39;00m \u001b[38;5;28;01mimport\u001b[39;00m layout_map \u001b[38;5;28;01mas\u001b[39;00m layout_map_lib\n",
      "\u001b[0;31mModuleNotFoundError\u001b[0m: No module named 'tensorflow'"
     ]
    }
   ],
   "source": [
    "# Import statement\n",
    "\n",
    "from keras.datasets import mnist\n",
    "from sklearn.discriminant_analysis import LinearDiscriminantAnalysis \n",
    "from sklearn.metrics import accuracy_score\n",
    "from sklearn import tree\n",
    "from scipy import linalg\n",
    "import matplotlib.pyplot as plt\n",
    "from sklearn.svm import SVC\n",
    "import numpy as np"
   ]
  },
  {
   "cell_type": "code",
   "execution_count": 12,
   "id": "efdecdf5",
   "metadata": {},
   "outputs": [
    {
     "ename": "NameError",
     "evalue": "name 'mnist' is not defined",
     "output_type": "error",
     "traceback": [
      "\u001b[0;31m---------------------------------------------------------------------------\u001b[0m",
      "\u001b[0;31mNameError\u001b[0m                                 Traceback (most recent call last)",
      "Input \u001b[0;32mIn [12]\u001b[0m, in \u001b[0;36m<cell line: 2>\u001b[0;34m()\u001b[0m\n\u001b[1;32m      1\u001b[0m \u001b[38;5;66;03m# Load the MNIST data\u001b[39;00m\n\u001b[0;32m----> 2\u001b[0m (train_x, train_y), (test_x, test_y) \u001b[38;5;241m=\u001b[39m \u001b[43mmnist\u001b[49m\u001b[38;5;241m.\u001b[39mload_data()\n\u001b[1;32m      3\u001b[0m \u001b[38;5;28mprint\u001b[39m(\u001b[38;5;124m'\u001b[39m\u001b[38;5;124mtrain_x dimensions: \u001b[39m\u001b[38;5;124m'\u001b[39m \u001b[38;5;241m+\u001b[39m \u001b[38;5;28mstr\u001b[39m(train_x\u001b[38;5;241m.\u001b[39mshape))\n\u001b[1;32m      4\u001b[0m \u001b[38;5;28mprint\u001b[39m(\u001b[38;5;124m'\u001b[39m\u001b[38;5;124mtrain_y dimensions: \u001b[39m\u001b[38;5;124m'\u001b[39m \u001b[38;5;241m+\u001b[39m \u001b[38;5;28mstr\u001b[39m(train_y\u001b[38;5;241m.\u001b[39mshape))\n",
      "\u001b[0;31mNameError\u001b[0m: name 'mnist' is not defined"
     ]
    }
   ],
   "source": [
    "# Load the MNIST data\n",
    "(train_x, train_y), (test_x, test_y) = mnist.load_data()\n",
    "print('train_x dimensions: ' + str(train_x.shape))\n",
    "print('train_y dimensions: ' + str(train_y.shape))\n",
    "print('test_x dimensions:  '  + str(test_x.shape))\n",
    "print('test_y dimensions:  '  + str(test_y.shape))"
   ]
  },
  {
   "cell_type": "code",
   "execution_count": null,
   "id": "53589c8d",
   "metadata": {},
   "outputs": [],
   "source": [
    "# Reshape image into column vector\n",
    "n_train = train_x.shape[0]\n",
    "n_test = test_x.shape[0]\n",
    "m = train_x.shape[1] * train_x.shape[2] \n",
    "train_X = train_x.reshape((n_train, m)).T\n",
    "test_X = test_x.reshape((n_test, m)).T\n",
    "print('train_X dimensions: ' + str(train_X.shape))\n",
    "print('test_X dimensions: '  + str(test_X.shape))\n",
    "X = np.hstack((train_X, test_X))\n",
    "print('X dimensions: ' + str(X.shape))\n",
    "Y = np.hstack((train_y, test_y))\n",
    "print('Y dimensions: ' + str(Y.shape))"
   ]
  },
  {
   "cell_type": "code",
   "execution_count": null,
   "id": "d2d457dc",
   "metadata": {},
   "outputs": [],
   "source": [
    "# SVD analysis\n",
    "U, S, Vt = linalg.svd(X, full_matrices=False)\n"
   ]
  },
  {
   "cell_type": "code",
   "execution_count": null,
   "id": "90c62eb9",
   "metadata": {},
   "outputs": [],
   "source": [
    "print('U dimensions: ' + str(U.shape))\n",
    "print('VT dimensions: '  + str(Vt.shape))"
   ]
  },
  {
   "cell_type": "code",
   "execution_count": null,
   "id": "46bcb31e",
   "metadata": {},
   "outputs": [],
   "source": [
    "# Plot singular value spectrum\n",
    "r = np.arange(S.shape[0])\n",
    "plt.figure()\n",
    "plt.title('Singular Value Spectrum')\n",
    "plt.plot(r, S)\n",
    "plt.ylabel('Singular Value')\n",
    "plt.xlabel('Rank')\n",
    "plt.show()"
   ]
  },
  {
   "cell_type": "code",
   "execution_count": null,
   "id": "9dddb002",
   "metadata": {},
   "outputs": [],
   "source": [
    "# Matrix U is a 784 by 784 matrix where the columns represent the orthonormal basis or \n",
    "# principal components of the data matrix\n",
    "# Matrix Sigma is 784 by 784 diagonal matrix that contain the singular values which scale the vectors in matrix U\n",
    "# ordered in descending order\n",
    "# Matrix\n",
    "plt.figure(figsize=(12,8))\n",
    "for i in range(6):\n",
    "    plt.subplot(2,3,i+1)\n",
    "    img = U[:,i].reshape((28,28))\n",
    "    plt.imshow(img)\n",
    "plt.show()"
   ]
  },
  {
   "cell_type": "code",
   "execution_count": null,
   "id": "26caf401",
   "metadata": {},
   "outputs": [],
   "source": [
    "# Project data onto the columns 2,3 and 5\n",
    "k = np.array([2,3,5]) - 1\n",
    "X_proj = np.diag(S)@Vt\n",
    "X_proj = X_proj[k,:]\n",
    "print(X_proj.shape)"
   ]
  },
  {
   "cell_type": "code",
   "execution_count": null,
   "id": "4da20e6d",
   "metadata": {},
   "outputs": [],
   "source": [
    "# 3D plot the projected data with each digit having different color\n",
    "colors = ['tab:blue', 'tab:orange', 'tab:green', 'tab:red', 'tab:purple', 'tab:brown', \n",
    "         'tab:pink', 'tab:gray', 'tab:olive', 'tab:cyan']\n",
    "c_map = [colors[i] for i in Y]\n",
    "fig = plt.figure(figsize=(10,6))\n",
    "ax = fig.add_subplot(projection='3d')\n",
    "ax.set_title('Projection onto V-modes 2,3,5')\n",
    "ax.scatter(X_proj[0,:], X_proj[1,:], X_proj[2,:], c=c_map)\n",
    "ax.set_xlabel('Principal Component 2')\n",
    "ax.set_ylabel('Principal Component 3')\n",
    "ax.set_zlabel('Principal Component 5')\n",
    "ax.set_box_aspect(aspect=None, zoom=0.9)\n",
    "plt.tight_layout()\n",
    "plt.show()"
   ]
  },
  {
   "cell_type": "code",
   "execution_count": null,
   "id": "adc2f2d3",
   "metadata": {},
   "outputs": [],
   "source": [
    "# Function to prepare data for a two digits classifier\n",
    "def get_2digits(x, y, d1, d2):\n",
    "    index = [i for i in range(len(y)) if y[i] == d1 or y[i] == d2]\n",
    "    X = x[index,:]\n",
    "    Y = y[index]\n",
    "    #Y = np.array([1 if y == 1 else -1 for y in Y])\n",
    "    return X, Y\n",
    "\n",
    "# Function to prepare data for a three digits classifier\n",
    "def get_3digits(x, y, d1, d2, d3):\n",
    "    index = [i for i in range(len(y)) if y[i] == d1 or y[i] == d2 or y[i] == d3]\n",
    "    X = x[index,:]\n",
    "    Y = y[index]\n",
    "    return X, Y"
   ]
  },
  {
   "cell_type": "code",
   "execution_count": null,
   "id": "8b1a742f",
   "metadata": {},
   "outputs": [],
   "source": [
    "# Project onto top 100 principal components\n",
    "k = 200\n",
    "train_xp = train_X.T@U[:,:k]\n",
    "test_xp = test_X.T@U[:,:k]\n",
    "print(train_xp.shape)\n",
    "print(test_xp.shape)"
   ]
  },
  {
   "cell_type": "code",
   "execution_count": null,
   "id": "8fd4ed3b",
   "metadata": {},
   "outputs": [],
   "source": [
    "#Fit the LDA model to classify two digits (1, 8)\n",
    "train_x2, train_y2 = get_2digits(train_xp, train_y, 1, 8)\n",
    "test_x2, test_y2 = get_2digits(test_xp, test_y, 1, 8)\n",
    "\n",
    "model = LinearDiscriminantAnalysis()\n",
    "model.fit(train_x2, train_y2)\n",
    "y_pred = model.predict(test_x2)\n",
    "acc = accuracy_score(test_y2, y_pred)\n",
    "print('Two digits Classification (1,8) Accuracy:', acc)"
   ]
  },
  {
   "cell_type": "code",
   "execution_count": null,
   "id": "d6ed3d8c",
   "metadata": {},
   "outputs": [],
   "source": [
    "#Fit the LDA model to classify three digits (1,4,8)\n",
    "train_x3, train_y3 = get_3digits(train_xp, train_y, 1, 3, 8)\n",
    "test_x3, test_y3 = get_3digits(test_xp, test_y, 1, 3, 8)\n",
    "model = LinearDiscriminantAnalysis()\n",
    "model.fit(train_x3, train_y3)\n",
    "y_pred = model.predict(test_x3)\n",
    "acc = accuracy_score(test_y3, y_pred)\n",
    "print('Three digits Classification (1,4,8) Accuracy:', acc)"
   ]
  },
  {
   "cell_type": "code",
   "execution_count": null,
   "id": "b462a849",
   "metadata": {},
   "outputs": [],
   "source": [
    "#Fit the LDA model to classify all digits\n",
    "model = LinearDiscriminantAnalysis()\n",
    "model.fit(train_xp, train_y)\n",
    "y_pred = model.predict(test_xp)\n",
    "acc = accuracy_score(test_y, y_pred)\n",
    "print('Classification Accuracy:', acc)"
   ]
  },
  {
   "cell_type": "code",
   "execution_count": null,
   "id": "e2f9b1f9",
   "metadata": {},
   "outputs": [],
   "source": [
    "# Find accuracy of speration for all two digits pair\n",
    "# Generate all unique pairs\n",
    "pairs = []\n",
    "for i in range(10):\n",
    "    for j in range(10):\n",
    "        if (i,j) not in pairs and (j,i) not in pairs and i != j:\n",
    "            pairs.append((i,j))\n",
    "print(pairs)"
   ]
  },
  {
   "cell_type": "code",
   "execution_count": null,
   "id": "64f3357c",
   "metadata": {},
   "outputs": [],
   "source": [
    "# Compute accuracy of LDA for all digits pair\n",
    "acc_arr = []\n",
    "for pair in pairs:\n",
    "    train_x2, train_y2 = get_2digits(train_xp, train_y, pair[0], pair[1])\n",
    "    test_x2, test_y2 = get_2digits(test_xp, test_y, pair[0], pair[1])\n",
    "    model = LinearDiscriminantAnalysis()\n",
    "    model.fit(train_x2, train_y2)\n",
    "    y_pred = model.predict(test_x2)\n",
    "    acc_arr.append(accuracy_score(test_y2, y_pred))\n",
    "print(acc_arr)"
   ]
  },
  {
   "cell_type": "code",
   "execution_count": null,
   "id": "ef054275",
   "metadata": {},
   "outputs": [],
   "source": [
    "# Find two digits that \n",
    "acc_arr = np.array(acc_arr)\n",
    "index = np.argsort(acc_arr)\n",
    "min_index = index[0]\n",
    "max_index = index[-1]\n",
    "print('Digits pair most difficult to separate', pairs[min_index], 'accuracy:', acc_arr[min_index])\n",
    "print('Digits pair most easy to separate', pairs[max_index], 'accuracy:', acc_arr[max_index])"
   ]
  },
  {
   "cell_type": "code",
   "execution_count": null,
   "id": "15af5a4a",
   "metadata": {},
   "outputs": [],
   "source": [
    "# SVM Classifier on all digits\n",
    "clf = SVC()\n",
    "clf.fit(train_xp, train_y)\n",
    "y_pred = clf.predict(train_xp)\n",
    "acc = accuracy_score(train_y, y_pred)\n",
    "print('Training Accuracy:', acc)\n",
    "y_pred = clf.predict(test_xp)\n",
    "acc = accuracy_score(test_y, y_pred)\n",
    "print('Testing Accuracy:', acc)"
   ]
  },
  {
   "cell_type": "code",
   "execution_count": null,
   "id": "ee150888",
   "metadata": {},
   "outputs": [],
   "source": [
    "# Decision Tree Classifier on all digits\n",
    "clf = tree.DecisionTreeClassifier()\n",
    "clf = clf.fit(train_xp, train_y)\n",
    "y_pred = clf.predict(train_xp)\n",
    "acc = accuracy_score(train_y, y_pred)\n",
    "print('Training Accuracy:', acc)\n",
    "y_pred = clf.predict(test_xp)\n",
    "acc = accuracy_score(test_y, y_pred)\n",
    "print('Testing Accuracy:', acc)"
   ]
  },
  {
   "cell_type": "code",
   "execution_count": null,
   "id": "3c642a9d",
   "metadata": {},
   "outputs": [],
   "source": [
    "# Compare the performance between LDA, SVM and decision trees on the hardest and easiest pair of digits to separate\n",
    "\n",
    "train_x2_min, train_y2_min = get_2digits(train_xp, train_y, pairs[min_index][0], pairs[min_index][1])\n",
    "test_x2_min, test_y2_min = get_2digits(test_xp, test_y, pairs[min_index][0], pairs[min_index][1])\n",
    "\n",
    "train_x2_max, train_y2_max = get_2digits(train_xp, train_y, pairs[max_index][0], pairs[max_index][1])\n",
    "test_x2_max, test_y2_max = get_2digits(test_xp, test_y, pairs[max_index][0], pairs[max_index][1])\n",
    "\n",
    "print('Digits pair most difficult to separate', pairs[min_index])\n",
    "print('SVM Classification')\n",
    "clf = SVC()\n",
    "clf = clf.fit(train_x2_min, train_y2_min)\n",
    "y_pred = clf.predict(train_x2_min)\n",
    "acc = accuracy_score(train_y2_min, y_pred)\n",
    "print('Training Accuracy:', acc)\n",
    "y_pred = clf.predict(test_x2_min)\n",
    "acc = accuracy_score(test_y2_min, y_pred)\n",
    "print('Testing Accuracy:', acc)\n",
    "\n",
    "print('Decision Tree Classification')\n",
    "clf = tree.DecisionTreeClassifier()\n",
    "clf = clf.fit(train_x2_min, train_y2_min)\n",
    "y_pred = clf.predict(train_x2_min)\n",
    "acc = accuracy_score(train_y2_min, y_pred)\n",
    "print('Training Accuracy:', acc)\n",
    "y_pred = clf.predict(test_x2_min)\n",
    "acc = accuracy_score(test_y2_min, y_pred)\n",
    "print('Testing Accuracy:', acc)\n",
    "print()\n",
    "\n",
    "print('Digits pair most easy to separate', pairs[max_index])\n",
    "print('SVM Classification')\n",
    "clf = SVC()\n",
    "clf = clf.fit(train_x2_max, train_y2_max)\n",
    "y_pred = clf.predict(train_x2_max)\n",
    "acc = accuracy_score(train_y2_max, y_pred)\n",
    "print('Training Accuracy:', acc)\n",
    "y_pred = clf.predict(test_x2_max)\n",
    "acc = accuracy_score(test_y2_max, y_pred)\n",
    "print('Testing Accuracy:', acc)\n",
    "\n",
    "\n",
    "print('Decision Tree Classification')\n",
    "clf = clf.fit(train_x2_max, train_y2_max)\n",
    "y_pred = clf.predict(train_x2_max)\n",
    "acc = accuracy_score(train_y2_max, y_pred)\n",
    "print('Training Accuracy:', acc)\n",
    "y_pred = clf.predict(test_x2_max)\n",
    "acc = accuracy_score(test_y2_max, y_pred)\n",
    "print('Testing Accuracy:', acc)"
   ]
  },
  {
   "cell_type": "code",
   "execution_count": null,
   "id": "342645c4",
   "metadata": {},
   "outputs": [],
   "source": []
  },
  {
   "cell_type": "code",
   "execution_count": null,
   "id": "e6c80076",
   "metadata": {},
   "outputs": [],
   "source": []
  },
  {
   "cell_type": "code",
   "execution_count": 3,
   "id": "4a08f8a7",
   "metadata": {},
   "outputs": [],
   "source": [
    "import numpy as np\n",
    "import matplotlib.pyplot as plt\n",
    "from sklearn.datasets import fetch_openml\n",
    "from sklearn.decomposition import TruncatedSVD\n",
    "from mpl_toolkits.mplot3d import Axes3D\n"
   ]
  },
  {
   "cell_type": "code",
   "execution_count": 4,
   "id": "31bf78f1",
   "metadata": {},
   "outputs": [],
   "source": [
    "mnist = fetch_openml('mnist_784')\n",
    "X = mnist.data.astype('float64')\n",
    "X /= 255\n",
    "X = X.T\n"
   ]
  },
  {
   "cell_type": "code",
   "execution_count": 5,
   "id": "36644ae7",
   "metadata": {},
   "outputs": [
    {
     "data": {
      "image/png": "[encoded data removed]",
      "text/plain": [
       "<Figure size 640x480 with 1 Axes>"
      ]
     },
     "metadata": {},
     "output_type": "display_data"
    }
   ],
   "source": [
    "svd = TruncatedSVD(n_components=784, random_state=0)\n",
    "svd.fit(X)\n",
    "plt.plot(svd.singular_values_)\n",
    "plt.xlabel('Singular value index')\n",
    "plt.ylabel('Singular value')\n",
    "plt.title('Singular value spectrum')\n",
    "plt.show()\n"
   ]
  },
  {
   "cell_type": "markdown",
   "id": "18847e62",
   "metadata": {},
   "source": [
    "The interpretation of the U, Σ, and V matrices in the SVD decomposition is as follows:\n",
    "\n",
    "The matrix U contains the left singular vectors, which are the directions in the original feature space that capture the most variation in the data.\n",
    "The matrix Σ contains the singular values, which represent the amount of variation captured by each singular vector.\n",
    "The matrix V contains the right singular vectors, which are the directions in the image space that correspond to the most important features of the digits."
   ]
  },
  {
   "cell_type": "markdown",
   "id": "fb6bd421",
   "metadata": {},
   "source": [
    "To project the digit images onto three selected V-modes, we can first compute the matrix multiplication of X and the first three columns of V. We will also extract the label for each digit image."
   ]
  },
  {
   "cell_type": "code",
   "execution_count": null,
   "id": "9dd476ac",
   "metadata": {},
   "outputs": [],
   "source": [
    "U, s, V = np.linalg.svd(X)\n",
    "proj = np.dot(X.T, V[:, [1, 2, 4]])\n",
    "labels = np.array(mnist.target.astype(int))\n"
   ]
  },
  {
   "cell_type": "code",
   "execution_count": null,
   "id": "87c1a4ca",
   "metadata": {},
   "outputs": [],
   "source": [
    "fig = plt.figure()\n",
    "ax = fig.add_subplot(111, projection='3d')\n",
    "ax.scatter(proj[:,0], proj[:,1], proj[:,2], c=labels, cmap=plt.cm.get_cmap('jet', 10))\n",
    "ax.set_xlabel('V-mode 2')\n",
    "ax.set_ylabel('V-mode 3')\n",
    "ax.set_zlabel('V-mode 5')\n",
    "plt.show()\n"
   ]
  },
  {
   "cell_type": "code",
   "execution_count": null,
   "id": "de8748f0",
   "metadata": {},
   "outputs": [],
   "source": []
  },
  {
   "cell_type": "code",
   "execution_count": null,
   "id": "5ee94094",
   "metadata": {},
   "outputs": [],
   "source": []
  },
  {
   "cell_type": "code",
   "execution_count": null,
   "id": "def51a94",
   "metadata": {},
   "outputs": [],
   "source": []
  },
  {
   "cell_type": "code",
   "execution_count": null,
   "id": "86fa12f0",
   "metadata": {},
   "outputs": [],
   "source": []
  },
  {
   "cell_type": "code",
   "execution_count": null,
   "id": "f4bd8815",
   "metadata": {},
   "outputs": [],
   "source": []
  },
  {
   "cell_type": "code",
   "execution_count": null,
   "id": "5e22fd37",
   "metadata": {},
   "outputs": [],
   "source": []
  },
  {
   "cell_type": "code",
   "execution_count": null,
   "id": "ac2bf6ec",
   "metadata": {},
   "outputs": [],
   "source": []
  },
  {
   "cell_type": "code",
   "execution_count": null,
   "id": "8ed58104",
   "metadata": {},
   "outputs": [],
   "source": []
  },
  {
   "cell_type": "code",
   "execution_count": null,
   "id": "7ac3c3e4",
   "metadata": {},
   "outputs": [],
   "source": []
  },
  {
   "cell_type": "code",
   "execution_count": null,
   "id": "408bdda8",
   "metadata": {},
   "outputs": [],
   "source": []
  }
 ],
 "metadata": {
  "kernelspec": {
   "display_name": "Python 3 (ipykernel)",
   "language": "python",
   "name": "python3"
  },
  "language_info": {
   "codemirror_mode": {
    "name": "ipython",
    "version": 3
   },
   "file_extension": ".py",
   "mimetype": "text/x-python",
   "name": "python",
   "nbconvert_exporter": "python",
   "pygments_lexer": "ipython3",
   "version": "3.9.13"
  }
 },
 "nbformat": 4,
 "nbformat_minor": 5
}
