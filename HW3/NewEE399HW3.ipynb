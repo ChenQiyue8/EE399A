{
  "nbformat": 4,
  "nbformat_minor": 0,
  "metadata": {
    "colab": {
      "provenance": [],
      "machine_shape": "hm"
    },
    "kernelspec": {
      "name": "python3",
      "display_name": "Python 3"
    },
    "language_info": {
      "name": "python"
    },
    "accelerator": "GPU",
    "gpuClass": "standard"
  },
  "cells": [
    {
      "cell_type": "code",
      "source": [
        "import numpy as np\n",
        "import numpy.linalg as LA\n",
        "import matplotlib.pyplot as plt\n",
        "from sklearn.datasets import fetch_openml\n",
        "from sklearn.decomposition import PCA\n",
        "from sklearn.svm import SVC\n",
        "from sklearn.tree import DecisionTreeClassifier\n",
        "from sklearn.model_selection import train_test_split\n",
        "from sklearn.discriminant_analysis import LinearDiscriminantAnalysis\n",
        "from sklearn.metrics import accuracy_score"
      ],
      "metadata": {
        "id": "DNkEFxI7Y4FF"
      },
      "execution_count": 33,
      "outputs": []
    },
    {
      "cell_type": "code",
      "execution_count": null,
      "metadata": {
        "id": "x9Ke9aVtdS36"
      },
      "outputs": [],
      "source": [
        "# Load mnist data\n",
        "from sklearn.datasets import fetch_openml\n",
        "mnist = fetch_openml('mnist_784')\n",
        "X = mnist.data / 255.0\n",
        "X = X.T\n",
        "Y = mnist.target # 10000 Labels"
      ]
    },
    {
      "cell_type": "code",
      "source": [
        "U, s, Vt = np.linalg.svd(X, full_matrices=False) # economy SVD\n"
      ],
      "metadata": {
        "id": "fLy90yEMdkq0"
      },
      "execution_count": null,
      "outputs": []
    },
    {
      "cell_type": "code",
      "source": [
        "import matplotlib.pyplot as plt\n",
        "\n",
        "plt.plot(s)\n",
        "plt.title('Singular Value Spectrum')\n",
        "plt.xlabel('Singular value index')\n",
        "plt.ylabel('Singular value')\n",
        "plt.show()\n"
      ],
      "metadata": {
        "id": "sB3eLkuxdkt9"
      },
      "execution_count": null,
      "outputs": []
    },
    {
      "cell_type": "markdown",
      "source": [
        "100 is a good approximation for good image reconstruction."
      ],
      "metadata": {
        "id": "G--AJYHggvfj"
      }
    },
    {
      "cell_type": "code",
      "source": [
        "\n",
        "# Plot V\n",
        "fig = plt.figure()\n",
        "ax = fig.add_subplot(111, projection='3d')\n",
        "ax.scatter(Vt[0,:], Vt[1,:], Vt[2,:], c='y', marker='o')\n",
        "ax.set_title('V Scatter Plot')\n",
        "ax.set_xlabel('V1')\n",
        "ax.set_ylabel('V2')\n",
        "ax.set_zlabel('V3')\n",
        "plt.show() \n",
        "\n",
        "# Plot U\n",
        "fig = plt.figure()\n",
        "ax = fig.add_subplot(111, projection='3d')\n",
        "ax.scatter(U[:, 0], U[:, 1], U[:, 2], c='r', marker='o')\n",
        "ax.set_title('U Scatter Plot')\n",
        "ax.set_xlabel('U1')\n",
        "ax.set_ylabel('U2')\n",
        "ax.set_zlabel('U3')\n",
        "plt.show()"
      ],
      "metadata": {
        "id": "45INwHEO5E9B"
      },
      "execution_count": null,
      "outputs": []
    },
    {
      "cell_type": "markdown",
      "source": [
        "The columns of U are called left singular vectors of X and the columns of V are right singular vectors. The diagonal elements of $\\hat{\\Sigma} \\in \\mathbb{C}^{mxm}$ are called singular values and they ae ordred from largest to smallest. The rank of X is equal to the number of non-zero singular values. "
      ],
      "metadata": {
        "id": "sMrX4s6rg-Yc"
      }
    },
    {
      "cell_type": "code",
      "source": [
        "selected_v = Vt[:, [2, 3, 5]]\n",
        "\n",
        "X_proj = np.dot(X.T, selected_v)\n",
        "\n",
        "# 3D Plot the projected data\n",
        "fig = plt.figure()\n",
        "ax = fig.add_subplot(111, projection='3d')\n",
        "plot = ax.scatter(X_proj[:, 0], X_proj[:, 1], X_proj[:, 2], c=Y.astype(int), cmap='rainbow')\n",
        "plt.colorbar(plot, pad = 0.2)\n",
        "ax.set_title('Projected Data Scatter Plot')\n",
        "ax.set_xlabel('V mode 2')\n",
        "ax.set_ylabel('V mode 3')\n",
        "ax.set_zlabel('V mode 5')\n",
        "plt.show()\n"
      ],
      "metadata": {
        "id": "U7VIT4NEoor9"
      },
      "execution_count": null,
      "outputs": []
    },
    {
      "cell_type": "markdown",
      "source": [
        "###Question 2"
      ],
      "metadata": {
        "id": "Xm9Bfsi7Wvje"
      }
    },
    {
      "cell_type": "code",
      "source": [
        "from sklearn.model_selection import train_test_split\n",
        "from sklearn.discriminant_analysis import LinearDiscriminantAnalysis\n",
        "from sklearn.svm import SVC\n",
        "from sklearn.tree import DecisionTreeClassifier\n",
        "from sklearn.metrics import accuracy_score\n",
        "import numpy as np"
      ],
      "metadata": {
        "id": "OGvnEqYndlPg"
      },
      "execution_count": null,
      "outputs": []
    },
    {
      "cell_type": "code",
      "source": [
        "# Split the data into training and testing sets\n",
        "X_train, X_test, Y_train, Y_test = train_test_split(\n",
        "    mnist.data, mnist.target, test_size=0.2, random_state=42)\n",
        "\n",
        "# Linear classifier with digits 9 and 5\n",
        "\n",
        "#Training Data\n",
        "digit1_train_index = np.where(Y_train == '9')[0].tolist()\n",
        "digit2_train_index = np.where(Y_train == '5')[0].tolist()\n",
        "\n",
        "digit1_train_data = X_train.values[digit1_train_index , :]\n",
        "digit2_train_data = X_train.values[digit2_train_index , :]\n",
        "\n",
        "train_data = np.concatenate((digit1_train_data, digit2_train_data), axis=0)\n",
        "train_index = digit1_train_index + digit2_train_index\n",
        "train_labels = Y_train.values[train_index]\n",
        "\n",
        "#Testing Data\n",
        "digit1_test_index = np.where(Y_test == '9')[0].tolist()\n",
        "digit2_test_index = np.where(Y_test == '5')[0].tolist()\n",
        "test_index = digit1_test_index + digit2_test_index\n",
        "test_data = X_test.values[test_index, :]\n",
        "test_labels = Y_test.values[test_index]\n",
        "\n",
        "# Train LDA model\n",
        "lda = LinearDiscriminantAnalysis()\n",
        "lda.fit(train_data, train_labels)\n",
        "\n",
        "# Evaluate the model on training and testing sets\n",
        "y_train_pred = lda.predict(train_data)\n",
        "y_test_pred = lda.predict(test_data)\n",
        "\n",
        "print(\"Linear Classifier with Digits {} and {}\".format(digit1, digit2))\n",
        "print(\"Train Accuracy: {:.4f}\".format(accuracy_score(train_labels, y_train_pred)))\n",
        "print(\"Test Accuracy: {:.4f}\".format(accuracy_score(test_labels, y_test_pred)))"
      ],
      "metadata": {
        "id": "zGkeZg2RdlSJ"
      },
      "execution_count": null,
      "outputs": []
    },
    {
      "cell_type": "code",
      "source": [
        "# Linear classifier with digits 4, 6. 8\n",
        "# Compute the LDA projection matrix and project training data onto it \n",
        "\n",
        "\n",
        "#Training Data\n",
        "digit1_train_index = np.where(Y_train == '4')[0].tolist()\n",
        "digit2_train_index = np.where(Y_train == '6')[0].tolist()\n",
        "digit3_train_index = np.where(Y_train == '8')[0].tolist()\n",
        "\n",
        "digit1_train_data = X_train.values[digit1_train_index , :]\n",
        "digit2_train_data = X_train.values[digit2_train_index , :]\n",
        "digit3_train_data = X_train.values[digit3_train_index , :]\n",
        "\n",
        "train_data = np.concatenate((digit1_train_data, digit2_train_data, digit3_train_data), axis=0)\n",
        "train_index = digit1_train_index + digit2_train_index + digit3_train_index\n",
        "train_labels = Y_train.values[train_index]"
      ],
      "metadata": {
        "id": "h3Nx1XE6929v"
      },
      "execution_count": null,
      "outputs": []
    },
    {
      "cell_type": "code",
      "source": [
        "lda = LinearDiscriminantAnalysis()\n",
        "lda.fit(train_data, train_labels)\n",
        "y_pred = lda.predict(test_data)\n",
        "y_pred2 = lda.predict(train_data)\n",
        "\n",
        "print(\"Train Accuracy: \", accuracy_score(train_labels, y_pred2))\n",
        "print(\"Test Accuracy: \", accuracy_score(test_labels, y_pred))"
      ],
      "metadata": {
        "id": "l-cLlsWv6Mx8"
      },
      "execution_count": null,
      "outputs": []
    },
    {
      "cell_type": "code",
      "source": [
        "# Dictionary to store the accuracy of each classifier\n",
        "dict = {}\n",
        "\n",
        "for i in range(0, 10):\n",
        "    for j in range(i + 1, 10):\n",
        "        # Linear classifier with digits i and j\n",
        "        # Compute the LDA projection matrix and project training data onto it \n",
        "\n",
        "        #Training Data\n",
        "        digit1_train_index = np.where(Y_train == str(i))[0].tolist()\n",
        "        digit2_train_index = np.where(Y_train == str(j))[0].tolist()\n",
        "\n",
        "        digit1_train_data = X_train.values[digit1_train_index , :]\n",
        "        digit2_train_data = X_train.values[digit2_train_index , :]\n",
        "\n",
        "        train_data = np.concatenate((digit1_train_data, digit2_train_data), axis=0)\n",
        "        train_index = digit1_train_index + digit2_train_index\n",
        "        train_labels = Y_train.values[train_index]\n",
        "\n",
        "        #Testing Data\n",
        "        digit1_test_index = np.where(Y_test == str(i))[0].tolist()\n",
        "        digit2_test_index = np.where(Y_test == str(j))[0].tolist()\n",
        "        test_index = digit1_test_index + digit2_test_index\n",
        "        test_data = X_test.values[test_index, :]\n",
        "        test_labels = Y_test.values[test_index]\n",
        "\n",
        "        lda = LinearDiscriminantAnalysis()\n",
        "        lda.fit(train_data, train_labels)\n",
        "        y_pred = lda.predict(test_data)\n",
        "        x_pred = lda.predict(train_data)\n",
        "\n",
        "        dict[str(i) + str(j)] = accuracy_score(test_labels, y_pred)\n",
        "        print(\"Digits: \" + str(i) + \" and \" + str(j) + \" Test Accuracy: \", accuracy_score(test_labels, y_pred) , \"Train Accuracy: \", accuracy_score(train_labels, x_pred))\n",
        "\n",
        "worst_digits = min(dict, key=dict.get)\n",
        "print(\"Worst Digits: \" + \"(\" + worst_digits[0] + \", \" + worst_digits[1] + \")\" + \"Test Accuracy: \", dict[worst_digits])\n",
        "\n",
        "best_digits = max(dict, key=dict.get)\n",
        "print(\"Best Digits: \" + \"(\" + best_digits[0] + \", \" + best_digits[1] + \")\" + \"Test Accuracy: \", dict[best_digits])\n"
      ],
      "metadata": {
        "id": "TcAvx0Xb6TbE"
      },
      "execution_count": null,
      "outputs": []
    },
    {
      "cell_type": "code",
      "source": [],
      "metadata": {
        "id": "3VnzyXTL6ikS"
      },
      "execution_count": null,
      "outputs": []
    },
    {
      "cell_type": "code",
      "execution_count": null,
      "metadata": {
        "id": "tlT8G7KBBklT"
      },
      "outputs": [],
      "source": [
        "# Hardest Digits (5, 8):\n",
        "\n",
        "# Training Data\n",
        "digit1_train_index = np.where(Y_train == '5')[0].tolist()\n",
        "digit2_train_index = np.where(Y_train == '8')[0].tolist()\n",
        "\n",
        "digit1_train_data = X_train.values[digit1_train_index , :]\n",
        "digit2_train_data = X_train.values[digit2_train_index , :]\n",
        "\n",
        "train_data = np.concatenate((digit1_train_data, digit2_train_data), axis=0)\n",
        "train_index = digit1_train_index + digit2_train_index\n",
        "train_labels = Y_train.values[train_index]\n",
        "\n",
        "#Testing Data\n",
        "digit1_test_index = np.where(Y_test == '5')[0].tolist()\n",
        "digit2_test_index = np.where(Y_test == '8')[0].tolist()\n",
        "test_index = digit1_test_index + digit2_test_index\n",
        "test_data = X_test.values[test_index, :]\n",
        "test_labels = Y_test.values[test_index]\n",
        "\n",
        "# SVM Classifier\n",
        "svm_clf2 = SVC()\n",
        "svm_clf2.fit(train_data, train_labels)\n",
        "\n",
        "y_pred2 = svm_clf2.predict(test_data)\n",
        "\n",
        "print(\"SVM Accuracy: \", accuracy_score(test_labels, y_pred2))\n",
        "\n",
        "# Decision Tree Classifier\n",
        "tree_clf2 = DecisionTreeClassifier()\n",
        "tree_clf2.fit(train_data, train_labels)\n",
        "\n",
        "y_pred3 = tree_clf2.predict(test_data)\n",
        "\n",
        "print(\"Decision Trees Accuracy: \", accuracy_score(test_labels, y_pred3))\n",
        "\n",
        "print(\"LDA Accuracy: \", dict[worst_digits])"
      ]
    },
    {
      "cell_type": "code",
      "execution_count": null,
      "metadata": {
        "id": "aAGnECrNBklU"
      },
      "outputs": [],
      "source": [
        "# Easiest Digits (6, 7):\n",
        "\n",
        "# Training Data\n",
        "digit1_train_index = np.where(Y_train == '6')[0].tolist()\n",
        "digit2_train_index = np.where(Y_train == '7')[0].tolist()\n",
        "\n",
        "digit1_train_data = X_train.values[digit1_train_index , :]\n",
        "digit2_train_data = X_train.values[digit2_train_index , :]\n",
        "\n",
        "train_data = np.concatenate((digit1_train_data, digit2_train_data), axis=0)\n",
        "train_index = digit1_train_index + digit2_train_index\n",
        "train_labels = Y_train.values[train_index]\n",
        "\n",
        "#Testing Data\n",
        "digit1_test_index = np.where(Y_test == '6')[0].tolist()\n",
        "digit2_test_index = np.where(Y_test == '7')[0].tolist()\n",
        "test_index = digit1_test_index + digit2_test_index\n",
        "test_data = X_test.values[test_index, :]\n",
        "test_labels = Y_test.values[test_index]\n",
        "\n",
        "# SVM Classifier\n",
        "svm_clf3 = SVC()\n",
        "svm_clf3.fit(train_data, train_labels)\n",
        "\n",
        "y_pred4 = svm_clf3.predict(test_data)\n",
        "\n",
        "print(\"SVM Accuracy: \", accuracy_score(test_labels, y_pred4))\n",
        "\n",
        "# Decision Tree Classifier\n",
        "tree_clf3 = DecisionTreeClassifier()\n",
        "tree_clf3.fit(train_data, train_labels)\n",
        "\n",
        "y_pred5 = tree_clf3.predict(test_data)\n",
        "\n",
        "print(\"Decision Trees Accuracy: \", accuracy_score(test_labels, y_pred5))\n",
        "\n",
        "print(\"LDA Accuracy: \", dict[best_digits])\n"
      ]
    }
  ]
}