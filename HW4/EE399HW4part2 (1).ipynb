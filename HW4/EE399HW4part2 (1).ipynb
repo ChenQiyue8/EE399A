{
  "cells": [
    {
      "cell_type": "code",
      "execution_count": null,
      "id": "aa65c36b",
      "metadata": {
        "id": "aa65c36b"
      },
      "outputs": [],
      "source": [
        "import numpy as np\n",
        "import matplotlib.pyplot as plt\n",
        "from sklearn.datasets import fetch_openml\n",
        "from sklearn.decomposition import PCA\n",
        "from sklearn.model_selection import train_test_split\n",
        "from sklearn.metrics import accuracy_score\n",
        "from sklearn.svm import SVC\n",
        "from sklearn.tree import DecisionTreeClassifier\n",
        "import torch\n",
        "import torch.nn as nn\n",
        "import torch.optim as optim\n",
        "\n",
        "# For Progress Bar\n",
        "from tqdm import tqdm"
      ]
    },
    {
      "cell_type": "code",
      "source": [
        "if torch.cuda.is_available():\n",
        "    device = torch.device(\"cuda\")\n",
        "else:\n",
        "    device = torch.device(\"cpu\")\n",
        "print(device)\n"
      ],
      "metadata": {
        "colab": {
          "base_uri": "https://localhost:8080/"
        },
        "id": "JehSdcshacNA",
        "outputId": "439b9f38-9981-42b8-84e7-26ec740c78ea"
      },
      "id": "JehSdcshacNA",
      "execution_count": null,
      "outputs": [
        {
          "output_type": "stream",
          "name": "stdout",
          "text": [
            "cuda\n"
          ]
        }
      ]
    },
    {
      "cell_type": "code",
      "execution_count": null,
      "id": "7157054a",
      "metadata": {
        "colab": {
          "base_uri": "https://localhost:8080/"
        },
        "id": "7157054a",
        "outputId": "58b77d3c-c423-47ac-adcf-ffa379f60fdd"
      },
      "outputs": [
        {
          "output_type": "stream",
          "name": "stderr",
          "text": [
            "/usr/local/lib/python3.10/dist-packages/sklearn/datasets/_openml.py:968: FutureWarning: The default value of `parser` will change from `'liac-arff'` to `'auto'` in 1.4. You can set `parser='auto'` to silence this warning. Therefore, an `ImportError` will be raised from 1.4 if the dataset is dense and pandas is not installed. Note that the pandas parser may return different data types. See the Notes Section in fetch_openml's API doc for details.\n",
            "  warn(\n"
          ]
        }
      ],
      "source": [
        "# Load MNIST dataset\n",
        "mnist = fetch_openml('mnist_784')\n",
        "X = mnist.data.astype('float32') / 255.\n",
        "y = mnist.target.astype('int')"
      ]
    },
    {
      "cell_type": "code",
      "execution_count": null,
      "id": "2c7f3c52",
      "metadata": {
        "id": "2c7f3c52"
      },
      "outputs": [],
      "source": [
        "X = np.array(X)\n",
        "y = np.array(y)\n",
        "X_train, X_test, y_train, y_test = train_test_split(X, y, test_size=0.2, random_state=42)"
      ]
    },
    {
      "cell_type": "code",
      "source": [
        "# Perform PCA analysis on the images\n",
        "pca = PCA(n_components=20)\n",
        "X_train_pca = pca.fit_transform(X_train)\n",
        "X_test_pca = pca.transform(X_test)\n",
        "\n",
        "# Visualize the first 20 PCA modes\n",
        "fig, axes = plt.subplots(nrows=4, ncols=5, figsize=(10, 8))\n",
        "for i, ax in enumerate(axes.flat):\n",
        "    ax.imshow(pca.components_[i].reshape(28, 28), cmap='gray')\n",
        "    ax.set_xticks([])\n",
        "    ax.set_yticks([])\n",
        "    ax.set_title('PC %d' % (i+1))\n",
        "plt.tight_layout()\n",
        "plt.show()\n"
      ],
      "metadata": {
        "id": "DzCdTFd3GOwh"
      },
      "id": "DzCdTFd3GOwh",
      "execution_count": null,
      "outputs": []
    },
    {
      "cell_type": "code",
      "source": [
        "print(X_train_pca.shape)"
      ],
      "metadata": {
        "colab": {
          "base_uri": "https://localhost:8080/"
        },
        "id": "VjPCya9wFOh4",
        "outputId": "c7dfdb50-5acf-4012-9279-d67e95d5e81b"
      },
      "id": "VjPCya9wFOh4",
      "execution_count": null,
      "outputs": [
        {
          "output_type": "stream",
          "name": "stdout",
          "text": [
            "(56000, 20)\n"
          ]
        }
      ]
    },
    {
      "cell_type": "code",
      "execution_count": null,
      "id": "0978ee71",
      "metadata": {
        "id": "0978ee71"
      },
      "outputs": [],
      "source": [
        "# Convert data to PyTorch tensors\n",
        "X_train_pca = torch.from_numpy(X_train_pca).float()\n",
        "X_test_pca = torch.from_numpy(X_test_pca).float()\n",
        "y_train = torch.from_numpy(y_train).long()\n",
        "y_test = torch.from_numpy(y_test).long()"
      ]
    },
    {
      "cell_type": "code",
      "execution_count": null,
      "id": "817f1678",
      "metadata": {
        "colab": {
          "base_uri": "https://localhost:8080/"
        },
        "id": "817f1678",
        "outputId": "1fd8e9ea-5ef6-45a2-9fbf-4e271e00351f"
      },
      "outputs": [
        {
          "output_type": "stream",
          "name": "stderr",
          "text": [
            "Training:   0%|                              | 15.0/10.0k [00:00<02:20, 71.2epoc"
          ]
        },
        {
          "output_type": "stream",
          "name": "stdout",
          "text": [
            " Epoch: 1, Loss: 2.3094\n"
          ]
        },
        {
          "output_type": "stream",
          "name": "stderr",
          "text": [
            "Training:   1%|▎                             | 113/10.0k [00:02<03:14, 50.8epoch"
          ]
        },
        {
          "output_type": "stream",
          "name": "stdout",
          "text": [
            " Epoch: 101, Loss: 0.3254\n"
          ]
        },
        {
          "output_type": "stream",
          "name": "stderr",
          "text": [
            "Training:   2%|▋                             | 218/10.0k [00:05<02:37, 62.2epoch"
          ]
        },
        {
          "output_type": "stream",
          "name": "stdout",
          "text": [
            " Epoch: 201, Loss: 0.2136\n"
          ]
        },
        {
          "output_type": "stream",
          "name": "stderr",
          "text": [
            "Training:   3%|▉                             | 318/10.0k [00:06<01:47, 90.5epoch"
          ]
        },
        {
          "output_type": "stream",
          "name": "stdout",
          "text": [
            " Epoch: 301, Loss: 0.1750\n"
          ]
        },
        {
          "output_type": "stream",
          "name": "stderr",
          "text": [
            "Training:   4%|█▏                            | 412/10.0k [00:09<02:58, 53.8epoch"
          ]
        },
        {
          "output_type": "stream",
          "name": "stdout",
          "text": [
            " Epoch: 401, Loss: 0.1541\n"
          ]
        },
        {
          "output_type": "stream",
          "name": "stderr",
          "text": [
            "Training:   5%|█▌                            | 512/10.0k [00:10<01:44, 91.1epoch"
          ]
        },
        {
          "output_type": "stream",
          "name": "stdout",
          "text": [
            " Epoch: 501, Loss: 0.1401\n"
          ]
        },
        {
          "output_type": "stream",
          "name": "stderr",
          "text": [
            "Training:   6%|█▊                            | 620/10.0k [00:12<01:59, 78.5epoch"
          ]
        },
        {
          "output_type": "stream",
          "name": "stdout",
          "text": [
            " Epoch: 601, Loss: 0.1306\n"
          ]
        },
        {
          "output_type": "stream",
          "name": "stderr",
          "text": [
            "Training:   7%|██▏                           | 720/10.0k [00:13<01:38, 93.9epoch"
          ]
        },
        {
          "output_type": "stream",
          "name": "stdout",
          "text": [
            " Epoch: 701, Loss: 0.1235\n"
          ]
        },
        {
          "output_type": "stream",
          "name": "stderr",
          "text": [
            "Training:   8%|██▍                           | 820/10.0k [00:14<02:04, 74.0epoch"
          ]
        },
        {
          "output_type": "stream",
          "name": "stdout",
          "text": [
            " Epoch: 801, Loss: 0.1165\n"
          ]
        },
        {
          "output_type": "stream",
          "name": "stderr",
          "text": [
            "Training:   9%|██▋                           | 900/10.0k [00:15<01:34, 96.1epoch"
          ]
        },
        {
          "output_type": "stream",
          "name": "stdout",
          "text": [
            " Epoch: 901, Loss: 0.1080\n"
          ]
        },
        {
          "output_type": "stream",
          "name": "stderr",
          "text": [
            "Training:  10%|███                           | 1.02k/10.0k [00:17<02:17, 65.4epo"
          ]
        },
        {
          "output_type": "stream",
          "name": "stdout",
          "text": [
            " Epoch: 1001, Loss: 0.1074\n"
          ]
        },
        {
          "output_type": "stream",
          "name": "stderr",
          "text": [
            "Training:  11%|███▎                          | 1.12k/10.0k [00:19<01:44, 85.2epo"
          ]
        },
        {
          "output_type": "stream",
          "name": "stdout",
          "text": [
            " Epoch: 1101, Loss: 0.1035\n"
          ]
        },
        {
          "output_type": "stream",
          "name": "stderr",
          "text": [
            "Training:  12%|███▋                          | 1.22k/10.0k [00:21<02:23, 61.3epo"
          ]
        },
        {
          "output_type": "stream",
          "name": "stdout",
          "text": [
            " Epoch: 1201, Loss: 0.1026\n"
          ]
        },
        {
          "output_type": "stream",
          "name": "stderr",
          "text": [
            "Training:  13%|███▉                          | 1.32k/10.0k [00:22<01:34, 92.1epo"
          ]
        },
        {
          "output_type": "stream",
          "name": "stdout",
          "text": [
            " Epoch: 1301, Loss: 0.0983\n"
          ]
        },
        {
          "output_type": "stream",
          "name": "stderr",
          "text": [
            "Training:  14%|████▏                         | 1.41k/10.0k [00:24<02:54, 49.1epo"
          ]
        },
        {
          "output_type": "stream",
          "name": "stdout",
          "text": [
            " Epoch: 1401, Loss: 0.0953\n"
          ]
        },
        {
          "output_type": "stream",
          "name": "stderr",
          "text": [
            "Training:  15%|████▌                         | 1.50k/10.0k [00:26<04:48, 29.5epo"
          ]
        },
        {
          "output_type": "stream",
          "name": "stdout",
          "text": [
            " Epoch: 1501, Loss: 0.0936\n"
          ]
        },
        {
          "output_type": "stream",
          "name": "stderr",
          "text": [
            "Training:  16%|████▊                         | 1.61k/10.0k [00:28<01:53, 74.1epo"
          ]
        },
        {
          "output_type": "stream",
          "name": "stdout",
          "text": [
            " Epoch: 1601, Loss: 0.0916\n"
          ]
        },
        {
          "output_type": "stream",
          "name": "stderr",
          "text": [
            "Training:  17%|█████▏                        | 1.72k/10.0k [00:30<02:13, 62.2epo"
          ]
        },
        {
          "output_type": "stream",
          "name": "stdout",
          "text": [
            " Epoch: 1701, Loss: 0.0905\n"
          ]
        },
        {
          "output_type": "stream",
          "name": "stderr",
          "text": [
            "Training:  18%|█████▍                        | 1.82k/10.0k [00:31<01:28, 91.9epo"
          ]
        },
        {
          "output_type": "stream",
          "name": "stdout",
          "text": [
            " Epoch: 1801, Loss: 0.0892\n"
          ]
        },
        {
          "output_type": "stream",
          "name": "stderr",
          "text": [
            "Training:  19%|█████▋                        | 1.90k/10.0k [00:33<01:55, 69.9epo"
          ]
        },
        {
          "output_type": "stream",
          "name": "stdout",
          "text": [
            " Epoch: 1901, Loss: 0.0874\n"
          ]
        },
        {
          "output_type": "stream",
          "name": "stderr",
          "text": [
            "Training:  20%|██████                        | 2.02k/10.0k [00:35<04:17, 31.0epo"
          ]
        },
        {
          "output_type": "stream",
          "name": "stdout",
          "text": [
            " Epoch: 2001, Loss: 0.0842\n"
          ]
        },
        {
          "output_type": "stream",
          "name": "stderr",
          "text": [
            "Training:  21%|██████▎                       | 2.12k/10.0k [00:36<01:52, 69.8epo"
          ]
        },
        {
          "output_type": "stream",
          "name": "stdout",
          "text": [
            " Epoch: 2101, Loss: 0.0827\n"
          ]
        },
        {
          "output_type": "stream",
          "name": "stderr",
          "text": [
            "Training:  22%|██████▋                       | 2.21k/10.0k [00:38<03:29, 37.2epo"
          ]
        },
        {
          "output_type": "stream",
          "name": "stdout",
          "text": [
            " Epoch: 2201, Loss: 0.0864\n"
          ]
        },
        {
          "output_type": "stream",
          "name": "stderr",
          "text": [
            "Training:  23%|██████▉                       | 2.31k/10.0k [00:40<01:33, 82.1epo"
          ]
        },
        {
          "output_type": "stream",
          "name": "stdout",
          "text": [
            " Epoch: 2301, Loss: 0.0821\n"
          ]
        },
        {
          "output_type": "stream",
          "name": "stderr",
          "text": [
            "Training:  24%|███████▏                      | 2.41k/10.0k [00:42<02:18, 54.9epo"
          ]
        },
        {
          "output_type": "stream",
          "name": "stdout",
          "text": [
            " Epoch: 2401, Loss: 0.0824\n"
          ]
        },
        {
          "output_type": "stream",
          "name": "stderr",
          "text": [
            "Training:  25%|███████▌                      | 2.51k/10.0k [00:43<01:24, 88.4epo"
          ]
        },
        {
          "output_type": "stream",
          "name": "stdout",
          "text": [
            " Epoch: 2501, Loss: 0.0800\n"
          ]
        },
        {
          "output_type": "stream",
          "name": "stderr",
          "text": [
            "Training:  26%|███████▊                      | 2.62k/10.0k [00:45<01:34, 77.7epo"
          ]
        },
        {
          "output_type": "stream",
          "name": "stdout",
          "text": [
            " Epoch: 2601, Loss: 0.0788\n"
          ]
        },
        {
          "output_type": "stream",
          "name": "stderr",
          "text": [
            "Training:  27%|████████▏                     | 2.72k/10.0k [00:46<01:17, 94.3epo"
          ]
        },
        {
          "output_type": "stream",
          "name": "stdout",
          "text": [
            " Epoch: 2701, Loss: 0.0790\n"
          ]
        },
        {
          "output_type": "stream",
          "name": "stderr",
          "text": [
            "Training:  28%|████████▍                     | 2.81k/10.0k [00:48<01:33, 77.2epo"
          ]
        },
        {
          "output_type": "stream",
          "name": "stdout",
          "text": [
            " Epoch: 2801, Loss: 0.0783\n"
          ]
        },
        {
          "output_type": "stream",
          "name": "stderr",
          "text": [
            "Training:  29%|████████▋                     | 2.91k/10.0k [00:49<01:16, 92.9epo"
          ]
        },
        {
          "output_type": "stream",
          "name": "stdout",
          "text": [
            " Epoch: 2901, Loss: 0.0795\n"
          ]
        },
        {
          "output_type": "stream",
          "name": "stderr",
          "text": [
            "Training:  30%|█████████                     | 3.02k/10.0k [00:51<01:41, 68.9epo"
          ]
        },
        {
          "output_type": "stream",
          "name": "stdout",
          "text": [
            " Epoch: 3001, Loss: 0.0780\n"
          ]
        },
        {
          "output_type": "stream",
          "name": "stderr",
          "text": [
            "Training:  31%|█████████▎                    | 3.11k/10.0k [00:53<03:02, 37.7epo"
          ]
        },
        {
          "output_type": "stream",
          "name": "stdout",
          "text": [
            " Epoch: 3101, Loss: 0.0760\n"
          ]
        },
        {
          "output_type": "stream",
          "name": "stderr",
          "text": [
            "Training:  32%|█████████▋                    | 3.21k/10.0k [00:55<01:22, 81.8epo"
          ]
        },
        {
          "output_type": "stream",
          "name": "stdout",
          "text": [
            " Epoch: 3201, Loss: 0.0777\n"
          ]
        },
        {
          "output_type": "stream",
          "name": "stderr",
          "text": [
            "Training:  33%|█████████▉                    | 3.31k/10.0k [00:57<02:01, 55.2epo"
          ]
        },
        {
          "output_type": "stream",
          "name": "stdout",
          "text": [
            " Epoch: 3301, Loss: 0.0763\n"
          ]
        },
        {
          "output_type": "stream",
          "name": "stderr",
          "text": [
            "Training:  34%|██████████▏                   | 3.41k/10.0k [00:58<01:15, 87.3epo"
          ]
        },
        {
          "output_type": "stream",
          "name": "stdout",
          "text": [
            " Epoch: 3401, Loss: 0.0746\n"
          ]
        },
        {
          "output_type": "stream",
          "name": "stderr",
          "text": [
            "Training:  35%|██████████▌                   | 3.52k/10.0k [01:01<01:44, 62.0epo"
          ]
        },
        {
          "output_type": "stream",
          "name": "stdout",
          "text": [
            " Epoch: 3501, Loss: 0.0746\n"
          ]
        },
        {
          "output_type": "stream",
          "name": "stderr",
          "text": [
            "Training:  36%|██████████▊                   | 3.62k/10.0k [01:02<01:10, 90.3epo"
          ]
        },
        {
          "output_type": "stream",
          "name": "stdout",
          "text": [
            " Epoch: 3601, Loss: 0.0752\n"
          ]
        },
        {
          "output_type": "stream",
          "name": "stderr",
          "text": [
            "Training:  37%|███████████                   | 3.71k/10.0k [01:04<01:27, 72.1epo"
          ]
        },
        {
          "output_type": "stream",
          "name": "stdout",
          "text": [
            " Epoch: 3701, Loss: 0.0759\n"
          ]
        },
        {
          "output_type": "stream",
          "name": "stderr",
          "text": [
            "Training:  38%|███████████▍                  | 3.81k/10.0k [01:05<01:07, 91.2epo"
          ]
        },
        {
          "output_type": "stream",
          "name": "stdout",
          "text": [
            " Epoch: 3801, Loss: 0.0747\n"
          ]
        },
        {
          "output_type": "stream",
          "name": "stderr",
          "text": [
            "Training:  39%|███████████▋                  | 3.91k/10.0k [01:07<01:38, 61.9epo"
          ]
        },
        {
          "output_type": "stream",
          "name": "stdout",
          "text": [
            " Epoch: 3901, Loss: 0.0742\n"
          ]
        },
        {
          "output_type": "stream",
          "name": "stderr",
          "text": [
            "Training:  40%|████████████                  | 4.02k/10.0k [01:08<01:22, 72.2epo"
          ]
        },
        {
          "output_type": "stream",
          "name": "stdout",
          "text": [
            " Epoch: 4001, Loss: 0.0721\n"
          ]
        },
        {
          "output_type": "stream",
          "name": "stderr",
          "text": [
            "Training:  41%|████████████▎                 | 4.11k/10.0k [01:10<01:15, 78.3epo"
          ]
        },
        {
          "output_type": "stream",
          "name": "stdout",
          "text": [
            " Epoch: 4101, Loss: 0.0737\n"
          ]
        },
        {
          "output_type": "stream",
          "name": "stderr",
          "text": [
            "Training:  42%|████████████▋                 | 4.21k/10.0k [01:11<01:05, 88.0epo"
          ]
        },
        {
          "output_type": "stream",
          "name": "stdout",
          "text": [
            " Epoch: 4201, Loss: 0.0705\n"
          ]
        },
        {
          "output_type": "stream",
          "name": "stderr",
          "text": [
            "Training:  43%|████████████▉                 | 4.32k/10.0k [01:14<01:21, 69.3epo"
          ]
        },
        {
          "output_type": "stream",
          "name": "stdout",
          "text": [
            " Epoch: 4301, Loss: 0.0719\n"
          ]
        },
        {
          "output_type": "stream",
          "name": "stderr",
          "text": [
            "Training:  44%|█████████████▏                | 4.41k/10.0k [01:16<01:22, 68.1epo"
          ]
        },
        {
          "output_type": "stream",
          "name": "stdout",
          "text": [
            " Epoch: 4401, Loss: 0.0718\n"
          ]
        },
        {
          "output_type": "stream",
          "name": "stderr",
          "text": [
            "Training:  45%|█████████████▌                | 4.50k/10.0k [01:17<01:00, 90.7epo"
          ]
        },
        {
          "output_type": "stream",
          "name": "stdout",
          "text": [
            " Epoch: 4501, Loss: 0.0708\n"
          ]
        },
        {
          "output_type": "stream",
          "name": "stderr",
          "text": [
            "Training:  46%|█████████████▊                | 4.61k/10.0k [01:19<01:24, 63.6epo"
          ]
        },
        {
          "output_type": "stream",
          "name": "stdout",
          "text": [
            " Epoch: 4601, Loss: 0.0743\n"
          ]
        },
        {
          "output_type": "stream",
          "name": "stderr",
          "text": [
            "Training:  47%|██████████████▏               | 4.71k/10.0k [01:21<02:01, 43.6epo"
          ]
        },
        {
          "output_type": "stream",
          "name": "stdout",
          "text": [
            " Epoch: 4701, Loss: 0.0758\n"
          ]
        },
        {
          "output_type": "stream",
          "name": "stderr",
          "text": [
            "Training:  48%|██████████████▍               | 4.81k/10.0k [01:23<01:01, 84.9epo"
          ]
        },
        {
          "output_type": "stream",
          "name": "stdout",
          "text": [
            " Epoch: 4801, Loss: 0.0724\n"
          ]
        },
        {
          "output_type": "stream",
          "name": "stderr",
          "text": [
            "Training:  49%|██████████████▊               | 4.92k/10.0k [01:25<01:07, 75.6epo"
          ]
        },
        {
          "output_type": "stream",
          "name": "stdout",
          "text": [
            " Epoch: 4901, Loss: 0.0732\n"
          ]
        },
        {
          "output_type": "stream",
          "name": "stderr",
          "text": [
            "Training:  50%|███████████████               | 5.02k/10.0k [01:26<00:52, 94.1epo"
          ]
        },
        {
          "output_type": "stream",
          "name": "stdout",
          "text": [
            " Epoch: 5001, Loss: 0.0737\n"
          ]
        },
        {
          "output_type": "stream",
          "name": "stderr",
          "text": [
            "Training:  51%|███████████████▎              | 5.09k/10.0k [01:28<01:09, 70.6epo"
          ]
        },
        {
          "output_type": "stream",
          "name": "stdout",
          "text": [
            " Epoch: 5101, Loss: 0.0723\n"
          ]
        },
        {
          "output_type": "stream",
          "name": "stderr",
          "text": [
            "Training:  52%|███████████████▋              | 5.21k/10.0k [01:30<02:32, 31.4epo"
          ]
        },
        {
          "output_type": "stream",
          "name": "stdout",
          "text": [
            " Epoch: 5201, Loss: 0.0712\n"
          ]
        },
        {
          "output_type": "stream",
          "name": "stderr",
          "text": [
            "Training:  53%|███████████████▉              | 5.31k/10.0k [01:31<01:07, 69.0epo"
          ]
        },
        {
          "output_type": "stream",
          "name": "stdout",
          "text": [
            " Epoch: 5301, Loss: 0.0703\n"
          ]
        },
        {
          "output_type": "stream",
          "name": "stderr",
          "text": [
            "Training:  54%|████████████████▎             | 5.42k/10.0k [01:33<01:39, 46.1epo"
          ]
        },
        {
          "output_type": "stream",
          "name": "stdout",
          "text": [
            " Epoch: 5401, Loss: 0.0708\n"
          ]
        },
        {
          "output_type": "stream",
          "name": "stderr",
          "text": [
            "Training:  55%|████████████████▌             | 5.52k/10.0k [01:35<00:52, 85.2epo"
          ]
        },
        {
          "output_type": "stream",
          "name": "stdout",
          "text": [
            " Epoch: 5501, Loss: 0.0717\n"
          ]
        },
        {
          "output_type": "stream",
          "name": "stderr",
          "text": [
            "Training:  56%|████████████████▊             | 5.62k/10.0k [01:37<01:03, 68.7epo"
          ]
        },
        {
          "output_type": "stream",
          "name": "stdout",
          "text": [
            " Epoch: 5601, Loss: 0.0695\n"
          ]
        },
        {
          "output_type": "stream",
          "name": "stderr",
          "text": [
            "Training:  57%|█████████████████▏            | 5.72k/10.0k [01:38<00:46, 91.2epo"
          ]
        },
        {
          "output_type": "stream",
          "name": "stdout",
          "text": [
            " Epoch: 5701, Loss: 0.0697\n"
          ]
        },
        {
          "output_type": "stream",
          "name": "stderr",
          "text": [
            "Training:  58%|█████████████████▍            | 5.80k/10.0k [01:40<00:54, 77.1epo"
          ]
        },
        {
          "output_type": "stream",
          "name": "stdout",
          "text": [
            " Epoch: 5801, Loss: 0.0718\n"
          ]
        },
        {
          "output_type": "stream",
          "name": "stderr",
          "text": [
            "Training:  59%|█████████████████▋            | 5.89k/10.0k [01:41<00:44, 91.9epo"
          ]
        },
        {
          "output_type": "stream",
          "name": "stdout",
          "text": [
            " Epoch: 5901, Loss: 0.0710\n"
          ]
        },
        {
          "output_type": "stream",
          "name": "stderr",
          "text": [
            "Training:  60%|██████████████████            | 6.01k/10.0k [01:43<00:57, 68.9epo"
          ]
        },
        {
          "output_type": "stream",
          "name": "stdout",
          "text": [
            " Epoch: 6001, Loss: 0.0691\n"
          ]
        },
        {
          "output_type": "stream",
          "name": "stderr",
          "text": [
            "Training:  61%|██████████████████▎           | 6.12k/10.0k [01:46<01:14, 52.4epo"
          ]
        },
        {
          "output_type": "stream",
          "name": "stdout",
          "text": [
            " Epoch: 6101, Loss: 0.0689\n"
          ]
        },
        {
          "output_type": "stream",
          "name": "stderr",
          "text": [
            "Training:  62%|██████████████████▋           | 6.22k/10.0k [01:47<00:42, 88.0epo"
          ]
        },
        {
          "output_type": "stream",
          "name": "stdout",
          "text": [
            " Epoch: 6201, Loss: 0.0663\n"
          ]
        },
        {
          "output_type": "stream",
          "name": "stderr",
          "text": [
            "Training:  63%|██████████████████▉           | 6.32k/10.0k [01:49<00:51, 70.9epo"
          ]
        },
        {
          "output_type": "stream",
          "name": "stdout",
          "text": [
            " Epoch: 6301, Loss: 0.0692\n"
          ]
        },
        {
          "output_type": "stream",
          "name": "stderr",
          "text": [
            "Training:  64%|███████████████████▏          | 6.42k/10.0k [01:50<00:39, 91.5epo"
          ]
        },
        {
          "output_type": "stream",
          "name": "stdout",
          "text": [
            " Epoch: 6401, Loss: 0.0685\n"
          ]
        },
        {
          "output_type": "stream",
          "name": "stderr",
          "text": [
            "Training:  65%|███████████████████▌          | 6.51k/10.0k [01:53<00:50, 69.4epo"
          ]
        },
        {
          "output_type": "stream",
          "name": "stdout",
          "text": [
            " Epoch: 6501, Loss: 0.0711\n"
          ]
        },
        {
          "output_type": "stream",
          "name": "stderr",
          "text": [
            "Training:  66%|███████████████████▊          | 6.61k/10.0k [01:55<01:15, 45.0epo"
          ]
        },
        {
          "output_type": "stream",
          "name": "stdout",
          "text": [
            " Epoch: 6601, Loss: 0.0696\n"
          ]
        },
        {
          "output_type": "stream",
          "name": "stderr",
          "text": [
            "Training:  67%|████████████████████▏         | 6.71k/10.0k [01:57<00:37, 87.2epo"
          ]
        },
        {
          "output_type": "stream",
          "name": "stdout",
          "text": [
            " Epoch: 6701, Loss: 0.0676\n"
          ]
        },
        {
          "output_type": "stream",
          "name": "stderr",
          "text": [
            "Training:  68%|████████████████████▍         | 6.81k/10.0k [01:59<00:39, 81.3epo"
          ]
        },
        {
          "output_type": "stream",
          "name": "stdout",
          "text": [
            " Epoch: 6801, Loss: 0.0676\n"
          ]
        },
        {
          "output_type": "stream",
          "name": "stderr",
          "text": [
            "Training:  69%|████████████████████▋         | 6.91k/10.0k [02:01<00:40, 76.3epo"
          ]
        },
        {
          "output_type": "stream",
          "name": "stdout",
          "text": [
            " Epoch: 6901, Loss: 0.0670\n"
          ]
        },
        {
          "output_type": "stream",
          "name": "stderr",
          "text": [
            "Training:  70%|█████████████████████         | 7.02k/10.0k [02:02<00:39, 74.7epo"
          ]
        },
        {
          "output_type": "stream",
          "name": "stdout",
          "text": [
            " Epoch: 7001, Loss: 0.0674\n"
          ]
        },
        {
          "output_type": "stream",
          "name": "stderr",
          "text": [
            "Training:  71%|█████████████████████▎        | 7.12k/10.0k [02:04<01:06, 43.6epo"
          ]
        },
        {
          "output_type": "stream",
          "name": "stdout",
          "text": [
            " Epoch: 7101, Loss: 0.0680\n"
          ]
        },
        {
          "output_type": "stream",
          "name": "stderr",
          "text": [
            "Training:  72%|█████████████████████▋        | 7.22k/10.0k [02:06<00:32, 85.3epo"
          ]
        },
        {
          "output_type": "stream",
          "name": "stdout",
          "text": [
            " Epoch: 7201, Loss: 0.0681\n"
          ]
        },
        {
          "output_type": "stream",
          "name": "stderr",
          "text": [
            "Training:  73%|█████████████████████▉        | 7.31k/10.0k [02:08<00:39, 68.5epo"
          ]
        },
        {
          "output_type": "stream",
          "name": "stdout",
          "text": [
            " Epoch: 7301, Loss: 0.0706\n"
          ]
        },
        {
          "output_type": "stream",
          "name": "stderr",
          "text": [
            "Training:  74%|██████████████████████▏       | 7.40k/10.0k [02:09<00:28, 90.5epo"
          ]
        },
        {
          "output_type": "stream",
          "name": "stdout",
          "text": [
            " Epoch: 7401, Loss: 0.0671\n"
          ]
        },
        {
          "output_type": "stream",
          "name": "stderr",
          "text": [
            "Training:  75%|██████████████████████▌       | 7.52k/10.0k [02:11<00:36, 68.4epo"
          ]
        },
        {
          "output_type": "stream",
          "name": "stdout",
          "text": [
            " Epoch: 7501, Loss: 0.0673\n"
          ]
        },
        {
          "output_type": "stream",
          "name": "stderr",
          "text": [
            "Training:  76%|██████████████████████▊       | 7.62k/10.0k [02:13<00:54, 43.8epo"
          ]
        },
        {
          "output_type": "stream",
          "name": "stdout",
          "text": [
            " Epoch: 7601, Loss: 0.0658\n"
          ]
        },
        {
          "output_type": "stream",
          "name": "stderr",
          "text": [
            "Training:  77%|███████████████████████▏      | 7.72k/10.0k [02:15<00:26, 84.7epo"
          ]
        },
        {
          "output_type": "stream",
          "name": "stdout",
          "text": [
            " Epoch: 7701, Loss: 0.0684\n"
          ]
        },
        {
          "output_type": "stream",
          "name": "stderr",
          "text": [
            "Training:  78%|███████████████████████▍      | 7.81k/10.0k [02:17<00:31, 68.7epo"
          ]
        },
        {
          "output_type": "stream",
          "name": "stdout",
          "text": [
            " Epoch: 7801, Loss: 0.0656\n"
          ]
        },
        {
          "output_type": "stream",
          "name": "stderr",
          "text": [
            "Training:  79%|███████████████████████▋      | 7.90k/10.0k [02:18<00:23, 89.9epo"
          ]
        },
        {
          "output_type": "stream",
          "name": "stdout",
          "text": [
            " Epoch: 7901, Loss: 0.0675\n"
          ]
        },
        {
          "output_type": "stream",
          "name": "stderr",
          "text": [
            "Training:  80%|████████████████████████      | 8.01k/10.0k [02:20<00:32, 60.5epo"
          ]
        },
        {
          "output_type": "stream",
          "name": "stdout",
          "text": [
            " Epoch: 8001, Loss: 0.0639\n"
          ]
        },
        {
          "output_type": "stream",
          "name": "stderr",
          "text": [
            "Training:  81%|████████████████████████▎     | 8.12k/10.0k [02:22<00:43, 43.5epo"
          ]
        },
        {
          "output_type": "stream",
          "name": "stdout",
          "text": [
            " Epoch: 8101, Loss: 0.0681\n"
          ]
        },
        {
          "output_type": "stream",
          "name": "stderr",
          "text": [
            "Training:  82%|████████████████████████▋     | 8.22k/10.0k [02:24<00:21, 84.7epo"
          ]
        },
        {
          "output_type": "stream",
          "name": "stdout",
          "text": [
            " Epoch: 8201, Loss: 0.0673\n"
          ]
        },
        {
          "output_type": "stream",
          "name": "stderr",
          "text": [
            "Training:  83%|████████████████████████▉     | 8.31k/10.0k [02:26<00:24, 69.2epo"
          ]
        },
        {
          "output_type": "stream",
          "name": "stdout",
          "text": [
            " Epoch: 8301, Loss: 0.0649\n"
          ]
        },
        {
          "output_type": "stream",
          "name": "stderr",
          "text": [
            "Training:  84%|█████████████████████████▏    | 8.41k/10.0k [02:27<00:17, 92.4epo"
          ]
        },
        {
          "output_type": "stream",
          "name": "stdout",
          "text": [
            " Epoch: 8401, Loss: 0.0648\n"
          ]
        },
        {
          "output_type": "stream",
          "name": "stderr",
          "text": [
            "Training:  85%|█████████████████████████▍    | 8.49k/10.0k [02:29<00:21, 69.0epo"
          ]
        },
        {
          "output_type": "stream",
          "name": "stdout",
          "text": [
            " Epoch: 8501, Loss: 0.0660\n"
          ]
        },
        {
          "output_type": "stream",
          "name": "stderr",
          "text": [
            "Training:  86%|█████████████████████████▊    | 8.62k/10.0k [02:31<00:39, 34.8epo"
          ]
        },
        {
          "output_type": "stream",
          "name": "stdout",
          "text": [
            " Epoch: 8601, Loss: 0.0677\n"
          ]
        },
        {
          "output_type": "stream",
          "name": "stderr",
          "text": [
            "Training:  87%|██████████████████████████▏   | 8.72k/10.0k [02:33<00:15, 80.6epo"
          ]
        },
        {
          "output_type": "stream",
          "name": "stdout",
          "text": [
            " Epoch: 8701, Loss: 0.0652\n"
          ]
        },
        {
          "output_type": "stream",
          "name": "stderr",
          "text": [
            "Training:  88%|██████████████████████████▍   | 8.82k/10.0k [02:35<00:19, 61.2epo"
          ]
        },
        {
          "output_type": "stream",
          "name": "stdout",
          "text": [
            " Epoch: 8801, Loss: 0.0661\n"
          ]
        },
        {
          "output_type": "stream",
          "name": "stderr",
          "text": [
            "Training:  89%|██████████████████████████▋   | 8.92k/10.0k [02:36<00:11, 90.3epo"
          ]
        },
        {
          "output_type": "stream",
          "name": "stdout",
          "text": [
            " Epoch: 8901, Loss: 0.0668\n"
          ]
        },
        {
          "output_type": "stream",
          "name": "stderr",
          "text": [
            "Training:  90%|███████████████████████████   | 9.00k/10.0k [02:38<00:13, 75.1epo"
          ]
        },
        {
          "output_type": "stream",
          "name": "stdout",
          "text": [
            " Epoch: 9001, Loss: 0.0651\n"
          ]
        },
        {
          "output_type": "stream",
          "name": "stderr",
          "text": [
            "Training:  91%|███████████████████████████▎  | 9.11k/10.0k [02:40<00:29, 30.2epo"
          ]
        },
        {
          "output_type": "stream",
          "name": "stdout",
          "text": [
            " Epoch: 9101, Loss: 0.0654\n"
          ]
        },
        {
          "output_type": "stream",
          "name": "stderr",
          "text": [
            "Training:  92%|███████████████████████████▋  | 9.22k/10.0k [02:42<00:13, 58.2epo"
          ]
        },
        {
          "output_type": "stream",
          "name": "stdout",
          "text": [
            " Epoch: 9201, Loss: 0.0647\n"
          ]
        },
        {
          "output_type": "stream",
          "name": "stderr",
          "text": [
            "Training:  93%|███████████████████████████▉  | 9.31k/10.0k [02:44<00:18, 36.2epo"
          ]
        },
        {
          "output_type": "stream",
          "name": "stdout",
          "text": [
            " Epoch: 9301, Loss: 0.0672\n"
          ]
        },
        {
          "output_type": "stream",
          "name": "stderr",
          "text": [
            "Training:  94%|████████████████████████████▏ | 9.41k/10.0k [02:46<00:15, 38.9epo"
          ]
        },
        {
          "output_type": "stream",
          "name": "stdout",
          "text": [
            " Epoch: 9401, Loss: 0.0644\n"
          ]
        },
        {
          "output_type": "stream",
          "name": "stderr",
          "text": [
            "Training:  95%|████████████████████████████▌ | 9.52k/10.0k [02:48<00:14, 34.1epo"
          ]
        },
        {
          "output_type": "stream",
          "name": "stdout",
          "text": [
            " Epoch: 9501, Loss: 0.0655\n"
          ]
        },
        {
          "output_type": "stream",
          "name": "stderr",
          "text": [
            "Training:  96%|████████████████████████████▊ | 9.62k/10.0k [02:50<00:11, 33.8epo"
          ]
        },
        {
          "output_type": "stream",
          "name": "stdout",
          "text": [
            " Epoch: 9601, Loss: 0.0691\n"
          ]
        },
        {
          "output_type": "stream",
          "name": "stderr",
          "text": [
            "Training:  97%|█████████████████████████████▏| 9.72k/10.0k [02:52<00:03, 80.3epo"
          ]
        },
        {
          "output_type": "stream",
          "name": "stdout",
          "text": [
            " Epoch: 9701, Loss: 0.0649\n"
          ]
        },
        {
          "output_type": "stream",
          "name": "stderr",
          "text": [
            "Training:  98%|█████████████████████████████▍| 9.81k/10.0k [02:54<00:03, 60.6epo"
          ]
        },
        {
          "output_type": "stream",
          "name": "stdout",
          "text": [
            " Epoch: 9801, Loss: 0.0627\n"
          ]
        },
        {
          "output_type": "stream",
          "name": "stderr",
          "text": [
            "Training:  99%|█████████████████████████████▋| 9.91k/10.0k [02:55<00:00, 90.6epo"
          ]
        },
        {
          "output_type": "stream",
          "name": "stdout",
          "text": [
            " Epoch: 9901, Loss: 0.0654\n"
          ]
        },
        {
          "output_type": "stream",
          "name": "stderr",
          "text": [
            "Training: 100%|██████████████████████████████| 10.0k/10.0k [02:57<00:00, 56.4epo"
          ]
        },
        {
          "output_type": "stream",
          "name": "stdout",
          "text": [
            "Accuracy: 96.26%\n"
          ]
        },
        {
          "output_type": "stream",
          "name": "stderr",
          "text": [
            "\n"
          ]
        }
      ],
      "source": [
        "# Define the neural network architecture\n",
        "class Net(nn.Module):\n",
        "    def __init__(self):\n",
        "        super(Net, self).__init__()\n",
        "        self.fc1 = nn.Linear(20, 256)\n",
        "        self.fc2 = nn.Linear(256, 128)\n",
        "        self.fc3 = nn.Linear(128, 64)\n",
        "        self.fc4 = nn.Linear(64, 10)\n",
        "\n",
        "    def forward(self, x):\n",
        "        x = self.fc1(x)\n",
        "        x = nn.functional.dropout(x, p=0.2)\n",
        "        x = nn.functional.relu(self.fc2(x))\n",
        "        x = nn.functional.dropout(x, p=0.2)\n",
        "        x = nn.functional.relu(self.fc3(x))\n",
        "        x = nn.functional.dropout(x, p=0.2)\n",
        "        x = self.fc4(x)\n",
        "        return nn.functional.log_softmax(x, dim=1)\n",
        "\n",
        "# Initialize the neural network\n",
        "model = Net().to(device)\n",
        "\n",
        "# Define the loss function and optimizer\n",
        "criterion = nn.CrossEntropyLoss()\n",
        "optimizer = optim.Adam(model.parameters())\n",
        "\n",
        "# Train the neural network\n",
        "for epoch in tqdm(range(10000), desc='Training', unit='epoch', unit_scale=True, ncols=80, bar_format='{l_bar}{bar:30}{r_bar}{bar:-10b}'):\n",
        "    optimizer.zero_grad()\n",
        "    output = model(X_train_pca.to(device))\n",
        "    loss = criterion(output, y_train.to(device))\n",
        "    loss.backward()\n",
        "    optimizer.step()\n",
        "    if epoch % 100 ==0:\n",
        "      print(\" Epoch: {:d}, Loss: {:.4f}\".format(epoch+1, loss.item()))\n",
        "\n",
        "# Evaluate the model on the test set\n",
        "with torch.no_grad():\n",
        "    output = model(X_test_pca.to(device))\n",
        "    y_pred = torch.argmax(output, dim=1)\n",
        "    accuracy = accuracy_score(y_test, y_pred.cpu())\n",
        "    print(\"Accuracy: {:.2f}%\".format(accuracy * 100))\n"
      ]
    },
    {
      "cell_type": "code",
      "execution_count": null,
      "id": "219004eb",
      "metadata": {
        "colab": {
          "base_uri": "https://localhost:8080/"
        },
        "id": "219004eb",
        "outputId": "c323a5e2-3b97-4e34-a92b-9891321e85fc"
      },
      "outputs": [
        {
          "output_type": "stream",
          "name": "stdout",
          "text": [
            "Epoch: 1, Loss: 2.3019\n",
            "Epoch: 2, Loss: 2.3004\n",
            "Epoch: 3, Loss: 2.2988\n",
            "Epoch: 4, Loss: 2.2972\n",
            "Epoch: 5, Loss: 2.2955\n",
            "Epoch: 6, Loss: 2.2936\n",
            "Epoch: 7, Loss: 2.2915\n",
            "Epoch: 8, Loss: 2.2890\n",
            "Epoch: 9, Loss: 2.2862\n",
            "Epoch: 10, Loss: 2.2828\n",
            "Epoch: 11, Loss: 2.2788\n",
            "Epoch: 12, Loss: 2.2739\n",
            "Epoch: 13, Loss: 2.2680\n",
            "Epoch: 14, Loss: 2.2608\n",
            "Epoch: 15, Loss: 2.2519\n",
            "Epoch: 16, Loss: 2.2411\n",
            "Epoch: 17, Loss: 2.2278\n",
            "Epoch: 18, Loss: 2.2113\n",
            "Epoch: 19, Loss: 2.1906\n",
            "Epoch: 20, Loss: 2.1659\n",
            "LSTM Accuracy: 24.44%\n"
          ]
        }
      ],
      "source": [
        "# Reshape the data for the LSTM network\n",
        "X_train_lstm = X_train.reshape((X_train.shape[0], 28, 28))\n",
        "X_test_lstm = X_test.reshape((X_test.shape[0], 28, 28))\n",
        "\n",
        "X_train_lstm = torch.tensor(X_train_lstm, dtype = torch.float32,  requires_grad = True)\n",
        "X_test_lstm = torch.tensor(X_test_lstm, dtype = torch.float32,  requires_grad = True)\n",
        "class LSTMNet(nn.Module):\n",
        "    def __init__(self):\n",
        "        super(LSTMNet, self).__init__()\n",
        "        self.lstm1 = nn.LSTM(28, 128, batch_first=True)\n",
        "        self.fc1 = nn.Linear(128, 10)\n",
        "\n",
        "    def forward(self, x):\n",
        "        x, _ = self.lstm1(x)\n",
        "        x = x[:, -1, :]\n",
        "        x = self.fc1(x)\n",
        "        return nn.functional.log_softmax(x, dim=1)\n",
        "\n",
        "# Initialize the LSTM network\n",
        "lstm_model = LSTMNet()\n",
        "\n",
        "# Define the loss function and optimizer\n",
        "criterion = nn.CrossEntropyLoss()\n",
        "optimizer = optim.Adam(lstm_model.parameters())\n",
        "\n",
        "# Train the LSTM network\n",
        "for epoch in range(20):\n",
        "    optimizer.zero_grad()\n",
        "    output = lstm_model(X_train_lstm)\n",
        "    loss = criterion(output, y_train)\n",
        "    loss.backward()\n",
        "    optimizer.step()\n",
        "    print(\"Epoch: {:d}, Loss: {:.4f}\".format(epoch+1, loss.item()))\n",
        "\n",
        "# Evaluate the LSTM model on the test set\n",
        "with torch.no_grad():\n",
        "    output = lstm_model(X_test_lstm)\n",
        "    y_pred = torch.argmax(output, dim=1)\n",
        "    accuracy = accuracy_score(y_test, y_pred)\n",
        "    print(\"LSTM Accuracy: {:.2f}%\".format(accuracy * 100))\n"
      ]
    },
    {
      "cell_type": "code",
      "execution_count": null,
      "id": "9987d321",
      "metadata": {
        "colab": {
          "base_uri": "https://localhost:8080/"
        },
        "id": "9987d321",
        "outputId": "dc607ba9-683f-4f13-9f06-1258d8c0273d"
      },
      "outputs": [
        {
          "output_type": "stream",
          "name": "stdout",
          "text": [
            "SVM Accuracy: 97.37%\n"
          ]
        }
      ],
      "source": [
        "# Train a SVM classifier\n",
        "svm_model = SVC()\n",
        "svm_model.fit(X_train_pca, y_train)\n",
        "y_pred = svm_model.predict(X_test_pca)\n",
        "accuracy = accuracy_score(y_test, y_pred)\n",
        "print(\"SVM Accuracy: {:.2f}%\".format(accuracy * 100))\n"
      ]
    },
    {
      "cell_type": "code",
      "execution_count": null,
      "id": "29feeb9b",
      "metadata": {
        "colab": {
          "base_uri": "https://localhost:8080/"
        },
        "id": "29feeb9b",
        "outputId": "d17afbf1-07e6-4126-da10-3b1e6f0a12d2"
      },
      "outputs": [
        {
          "output_type": "stream",
          "name": "stdout",
          "text": [
            "Decision Tree Accuracy: 84.51%\n"
          ]
        }
      ],
      "source": [
        "# Train a decision tree classifier\n",
        "tree_model = DecisionTreeClassifier()\n",
        "tree_model.fit(X_train_pca, y_train)\n",
        "y_pred = tree_model.predict(X_test_pca)\n",
        "accuracy = accuracy_score(y_test, y_pred)\n",
        "print(\"Decision Tree Accuracy: {:.2f}%\".format(accuracy * 100))\n"
      ]
    },
    {
      "cell_type": "code",
      "execution_count": null,
      "id": "c58a3cb2",
      "metadata": {
        "id": "c58a3cb2"
      },
      "outputs": [],
      "source": []
    },
    {
      "cell_type": "code",
      "execution_count": null,
      "id": "f46b6013",
      "metadata": {
        "id": "f46b6013"
      },
      "outputs": [],
      "source": []
    }
  ],
  "metadata": {
    "kernelspec": {
      "display_name": "Python 3 (ipykernel)",
      "language": "python",
      "name": "python3"
    },
    "language_info": {
      "codemirror_mode": {
        "name": "ipython",
        "version": 3
      },
      "file_extension": ".py",
      "mimetype": "text/x-python",
      "name": "python",
      "nbconvert_exporter": "python",
      "pygments_lexer": "ipython3",
      "version": "3.9.13"
    },
    "colab": {
      "provenance": [],
      "machine_shape": "hm",
      "gpuType": "T4"
    },
    "accelerator": "GPU",
    "gpuClass": "standard"
  },
  "nbformat": 4,
  "nbformat_minor": 5
}